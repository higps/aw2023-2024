{
 "cells": [
  {
   "cell_type": "code",
   "execution_count": 1,
   "metadata": {},
   "outputs": [],
   "source": [
    "import json\n",
    "import csv"
   ]
  },
  {
   "cell_type": "code",
   "execution_count": 2,
   "metadata": {},
   "outputs": [],
   "source": [
    "#FILMS\n",
    "json_file_path = \"Raw/films.json\"\n",
    "\n",
    "# Initialize an empty list to store the parsed JSON objects\n",
    "films = []\n",
    "\n",
    "with open(json_file_path, 'r') as json_file:\n",
    "    # Read the lines from the file\n",
    "    lines = json_file.readlines()\n",
    "\n",
    "    # Iterate through each line and load the JSON data\n",
    "    for line in lines:\n",
    "        # Load each line as a separate JSON object\n",
    "        json_data = json.loads(line)\n",
    "        json_data['opening_crawl'] = json_data['opening_crawl'].replace('\\r\\n', ' ')\n",
    "\n",
    "        # Append the loaded JSON object to the list\n",
    "        films.append(json_data)\n",
    "\n"
   ]
  },
  {
   "cell_type": "code",
   "execution_count": 3,
   "metadata": {},
   "outputs": [
    {
     "name": "stdout",
     "output_type": "stream",
     "text": [
      "['title', 'episode_id', 'opening_crawl', 'director', 'producer', 'release_date', 'characters', 'planets', 'starships', 'vehicles', 'species', 'created', 'edited', 'url']\n",
      "[{'title': 'A New Hope', 'episode_id': 4, 'opening_crawl': \"It is a period of civil war. Rebel spaceships, striking from a hidden base, have won their first victory against the evil Galactic Empire.  During the battle, Rebel spies managed to steal secret plans to the Empire's ultimate weapon, the DEATH STAR, an armored space station with enough power to destroy an entire planet.  Pursued by the Empire's sinister agents, Princess Leia races home aboard her starship, custodian of the stolen plans that can save her people and restore freedom to the galaxy....\", 'director': 'George Lucas', 'producer': 'Gary Kurtz, Rick McCallum', 'release_date': '1977-05-25', 'characters': ['https://swapi.dev/api/people/1/', 'https://swapi.dev/api/people/2/', 'https://swapi.dev/api/people/3/', 'https://swapi.dev/api/people/4/', 'https://swapi.dev/api/people/5/', 'https://swapi.dev/api/people/6/', 'https://swapi.dev/api/people/7/', 'https://swapi.dev/api/people/8/', 'https://swapi.dev/api/people/9/', 'https://swapi.dev/api/people/10/', 'https://swapi.dev/api/people/12/', 'https://swapi.dev/api/people/13/', 'https://swapi.dev/api/people/14/', 'https://swapi.dev/api/people/15/', 'https://swapi.dev/api/people/16/', 'https://swapi.dev/api/people/18/', 'https://swapi.dev/api/people/19/', 'https://swapi.dev/api/people/81/'], 'planets': ['https://swapi.dev/api/planets/1/', 'https://swapi.dev/api/planets/2/', 'https://swapi.dev/api/planets/3/'], 'starships': ['https://swapi.dev/api/starships/2/', 'https://swapi.dev/api/starships/3/', 'https://swapi.dev/api/starships/5/', 'https://swapi.dev/api/starships/9/', 'https://swapi.dev/api/starships/10/', 'https://swapi.dev/api/starships/11/', 'https://swapi.dev/api/starships/12/', 'https://swapi.dev/api/starships/13/'], 'vehicles': ['https://swapi.dev/api/vehicles/4/', 'https://swapi.dev/api/vehicles/6/', 'https://swapi.dev/api/vehicles/7/', 'https://swapi.dev/api/vehicles/8/'], 'species': ['https://swapi.dev/api/species/1/', 'https://swapi.dev/api/species/2/', 'https://swapi.dev/api/species/3/', 'https://swapi.dev/api/species/4/', 'https://swapi.dev/api/species/5/'], 'created': '2014-12-10T14:23:31.880000Z', 'edited': '2014-12-20T19:49:45.256000Z', 'url': 'https://swapi.dev/api/films/1/'}, {'title': 'The Empire Strikes Back', 'episode_id': 5, 'opening_crawl': 'It is a dark time for the Rebellion. Although the Death Star has been destroyed, Imperial troops have driven the Rebel forces from their hidden base and pursued them across the galaxy.  Evading the dreaded Imperial Starfleet, a group of freedom fighters led by Luke Skywalker has established a new secret base on the remote ice world of Hoth.  The evil lord Darth Vader, obsessed with finding young Skywalker, has dispatched thousands of remote probes into the far reaches of space....', 'director': 'Irvin Kershner', 'producer': 'Gary Kurtz, Rick McCallum', 'release_date': '1980-05-17', 'characters': ['https://swapi.dev/api/people/1/', 'https://swapi.dev/api/people/2/', 'https://swapi.dev/api/people/3/', 'https://swapi.dev/api/people/4/', 'https://swapi.dev/api/people/5/', 'https://swapi.dev/api/people/10/', 'https://swapi.dev/api/people/13/', 'https://swapi.dev/api/people/14/', 'https://swapi.dev/api/people/18/', 'https://swapi.dev/api/people/20/', 'https://swapi.dev/api/people/21/', 'https://swapi.dev/api/people/22/', 'https://swapi.dev/api/people/23/', 'https://swapi.dev/api/people/24/', 'https://swapi.dev/api/people/25/', 'https://swapi.dev/api/people/26/'], 'planets': ['https://swapi.dev/api/planets/4/', 'https://swapi.dev/api/planets/5/', 'https://swapi.dev/api/planets/6/', 'https://swapi.dev/api/planets/27/'], 'starships': ['https://swapi.dev/api/starships/3/', 'https://swapi.dev/api/starships/10/', 'https://swapi.dev/api/starships/11/', 'https://swapi.dev/api/starships/12/', 'https://swapi.dev/api/starships/15/', 'https://swapi.dev/api/starships/17/', 'https://swapi.dev/api/starships/21/', 'https://swapi.dev/api/starships/22/', 'https://swapi.dev/api/starships/23/'], 'vehicles': ['https://swapi.dev/api/vehicles/8/', 'https://swapi.dev/api/vehicles/14/', 'https://swapi.dev/api/vehicles/16/', 'https://swapi.dev/api/vehicles/18/', 'https://swapi.dev/api/vehicles/19/', 'https://swapi.dev/api/vehicles/20/'], 'species': ['https://swapi.dev/api/species/1/', 'https://swapi.dev/api/species/2/', 'https://swapi.dev/api/species/3/', 'https://swapi.dev/api/species/6/', 'https://swapi.dev/api/species/7/'], 'created': '2014-12-12T11:26:24.656000Z', 'edited': '2014-12-15T13:07:53.386000Z', 'url': 'https://swapi.dev/api/films/2/'}, {'title': 'Return of the Jedi', 'episode_id': 6, 'opening_crawl': 'Luke Skywalker has returned to his home planet of Tatooine in an attempt to rescue his friend Han Solo from the clutches of the vile gangster Jabba the Hutt.  Little does Luke know that the GALACTIC EMPIRE has secretly begun construction on a new armored space station even more powerful than the first dreaded Death Star.  When completed, this ultimate weapon will spell certain doom for the small band of rebels struggling to restore freedom to the galaxy...', 'director': 'Richard Marquand', 'producer': 'Howard G. Kazanjian, George Lucas, Rick McCallum', 'release_date': '1983-05-25', 'characters': ['https://swapi.dev/api/people/1/', 'https://swapi.dev/api/people/2/', 'https://swapi.dev/api/people/3/', 'https://swapi.dev/api/people/4/', 'https://swapi.dev/api/people/5/', 'https://swapi.dev/api/people/10/', 'https://swapi.dev/api/people/13/', 'https://swapi.dev/api/people/14/', 'https://swapi.dev/api/people/16/', 'https://swapi.dev/api/people/18/', 'https://swapi.dev/api/people/20/', 'https://swapi.dev/api/people/21/', 'https://swapi.dev/api/people/22/', 'https://swapi.dev/api/people/25/', 'https://swapi.dev/api/people/27/', 'https://swapi.dev/api/people/28/', 'https://swapi.dev/api/people/29/', 'https://swapi.dev/api/people/30/', 'https://swapi.dev/api/people/31/', 'https://swapi.dev/api/people/45/'], 'planets': ['https://swapi.dev/api/planets/1/', 'https://swapi.dev/api/planets/5/', 'https://swapi.dev/api/planets/7/', 'https://swapi.dev/api/planets/8/', 'https://swapi.dev/api/planets/9/'], 'starships': ['https://swapi.dev/api/starships/2/', 'https://swapi.dev/api/starships/3/', 'https://swapi.dev/api/starships/10/', 'https://swapi.dev/api/starships/11/', 'https://swapi.dev/api/starships/12/', 'https://swapi.dev/api/starships/15/', 'https://swapi.dev/api/starships/17/', 'https://swapi.dev/api/starships/22/', 'https://swapi.dev/api/starships/23/', 'https://swapi.dev/api/starships/27/', 'https://swapi.dev/api/starships/28/', 'https://swapi.dev/api/starships/29/'], 'vehicles': ['https://swapi.dev/api/vehicles/8/', 'https://swapi.dev/api/vehicles/16/', 'https://swapi.dev/api/vehicles/18/', 'https://swapi.dev/api/vehicles/19/', 'https://swapi.dev/api/vehicles/24/', 'https://swapi.dev/api/vehicles/25/', 'https://swapi.dev/api/vehicles/26/', 'https://swapi.dev/api/vehicles/30/'], 'species': ['https://swapi.dev/api/species/1/', 'https://swapi.dev/api/species/2/', 'https://swapi.dev/api/species/3/', 'https://swapi.dev/api/species/5/', 'https://swapi.dev/api/species/6/', 'https://swapi.dev/api/species/8/', 'https://swapi.dev/api/species/9/', 'https://swapi.dev/api/species/10/', 'https://swapi.dev/api/species/15/'], 'created': '2014-12-18T10:39:33.255000Z', 'edited': '2014-12-20T09:48:37.462000Z', 'url': 'https://swapi.dev/api/films/3/'}, {'title': 'The Phantom Menace', 'episode_id': 1, 'opening_crawl': 'Turmoil has engulfed the Galactic Republic. The taxation of trade routes to outlying star systems is in dispute.  Hoping to resolve the matter with a blockade of deadly battleships, the greedy Trade Federation has stopped all shipping to the small planet of Naboo.  While the Congress of the Republic endlessly debates this alarming chain of events, the Supreme Chancellor has secretly dispatched two Jedi Knights, the guardians of peace and justice in the galaxy, to settle the conflict....', 'director': 'George Lucas', 'producer': 'Rick McCallum', 'release_date': '1999-05-19', 'characters': ['https://swapi.dev/api/people/2/', 'https://swapi.dev/api/people/3/', 'https://swapi.dev/api/people/10/', 'https://swapi.dev/api/people/11/', 'https://swapi.dev/api/people/16/', 'https://swapi.dev/api/people/20/', 'https://swapi.dev/api/people/21/', 'https://swapi.dev/api/people/32/', 'https://swapi.dev/api/people/33/', 'https://swapi.dev/api/people/34/', 'https://swapi.dev/api/people/35/', 'https://swapi.dev/api/people/36/', 'https://swapi.dev/api/people/37/', 'https://swapi.dev/api/people/38/', 'https://swapi.dev/api/people/39/', 'https://swapi.dev/api/people/40/', 'https://swapi.dev/api/people/41/', 'https://swapi.dev/api/people/42/', 'https://swapi.dev/api/people/43/', 'https://swapi.dev/api/people/44/', 'https://swapi.dev/api/people/46/', 'https://swapi.dev/api/people/47/', 'https://swapi.dev/api/people/48/', 'https://swapi.dev/api/people/49/', 'https://swapi.dev/api/people/50/', 'https://swapi.dev/api/people/51/', 'https://swapi.dev/api/people/52/', 'https://swapi.dev/api/people/53/', 'https://swapi.dev/api/people/54/', 'https://swapi.dev/api/people/55/', 'https://swapi.dev/api/people/56/', 'https://swapi.dev/api/people/57/', 'https://swapi.dev/api/people/58/', 'https://swapi.dev/api/people/59/'], 'planets': ['https://swapi.dev/api/planets/1/', 'https://swapi.dev/api/planets/8/', 'https://swapi.dev/api/planets/9/'], 'starships': ['https://swapi.dev/api/starships/31/', 'https://swapi.dev/api/starships/32/', 'https://swapi.dev/api/starships/39/', 'https://swapi.dev/api/starships/40/', 'https://swapi.dev/api/starships/41/'], 'vehicles': ['https://swapi.dev/api/vehicles/33/', 'https://swapi.dev/api/vehicles/34/', 'https://swapi.dev/api/vehicles/35/', 'https://swapi.dev/api/vehicles/36/', 'https://swapi.dev/api/vehicles/37/', 'https://swapi.dev/api/vehicles/38/', 'https://swapi.dev/api/vehicles/42/'], 'species': ['https://swapi.dev/api/species/1/', 'https://swapi.dev/api/species/2/', 'https://swapi.dev/api/species/6/', 'https://swapi.dev/api/species/11/', 'https://swapi.dev/api/species/12/', 'https://swapi.dev/api/species/13/', 'https://swapi.dev/api/species/14/', 'https://swapi.dev/api/species/15/', 'https://swapi.dev/api/species/16/', 'https://swapi.dev/api/species/17/', 'https://swapi.dev/api/species/18/', 'https://swapi.dev/api/species/19/', 'https://swapi.dev/api/species/20/', 'https://swapi.dev/api/species/21/', 'https://swapi.dev/api/species/22/', 'https://swapi.dev/api/species/23/', 'https://swapi.dev/api/species/24/', 'https://swapi.dev/api/species/25/', 'https://swapi.dev/api/species/26/', 'https://swapi.dev/api/species/27/'], 'created': '2014-12-19T16:52:55.740000Z', 'edited': '2014-12-20T10:54:07.216000Z', 'url': 'https://swapi.dev/api/films/4/'}, {'title': 'Attack of the Clones', 'episode_id': 2, 'opening_crawl': 'There is unrest in the Galactic Senate. Several thousand solar systems have declared their intentions to leave the Republic.  This separatist movement, under the leadership of the mysterious Count Dooku, has made it difficult for the limited number of Jedi Knights to maintain  peace and order in the galaxy.  Senator Amidala, the former Queen of Naboo, is returning to the Galactic Senate to vote on the critical issue of creating an ARMY OF THE REPUBLIC to assist the overwhelmed Jedi....', 'director': 'George Lucas', 'producer': 'Rick McCallum', 'release_date': '2002-05-16', 'characters': ['https://swapi.dev/api/people/2/', 'https://swapi.dev/api/people/3/', 'https://swapi.dev/api/people/6/', 'https://swapi.dev/api/people/7/', 'https://swapi.dev/api/people/10/', 'https://swapi.dev/api/people/11/', 'https://swapi.dev/api/people/20/', 'https://swapi.dev/api/people/21/', 'https://swapi.dev/api/people/22/', 'https://swapi.dev/api/people/33/', 'https://swapi.dev/api/people/35/', 'https://swapi.dev/api/people/36/', 'https://swapi.dev/api/people/40/', 'https://swapi.dev/api/people/43/', 'https://swapi.dev/api/people/46/', 'https://swapi.dev/api/people/51/', 'https://swapi.dev/api/people/52/', 'https://swapi.dev/api/people/53/', 'https://swapi.dev/api/people/58/', 'https://swapi.dev/api/people/59/', 'https://swapi.dev/api/people/60/', 'https://swapi.dev/api/people/61/', 'https://swapi.dev/api/people/62/', 'https://swapi.dev/api/people/63/', 'https://swapi.dev/api/people/64/', 'https://swapi.dev/api/people/65/', 'https://swapi.dev/api/people/66/', 'https://swapi.dev/api/people/67/', 'https://swapi.dev/api/people/68/', 'https://swapi.dev/api/people/69/', 'https://swapi.dev/api/people/70/', 'https://swapi.dev/api/people/71/', 'https://swapi.dev/api/people/72/', 'https://swapi.dev/api/people/73/', 'https://swapi.dev/api/people/74/', 'https://swapi.dev/api/people/75/', 'https://swapi.dev/api/people/76/', 'https://swapi.dev/api/people/77/', 'https://swapi.dev/api/people/78/', 'https://swapi.dev/api/people/82/'], 'planets': ['https://swapi.dev/api/planets/1/', 'https://swapi.dev/api/planets/8/', 'https://swapi.dev/api/planets/9/', 'https://swapi.dev/api/planets/10/', 'https://swapi.dev/api/planets/11/'], 'starships': ['https://swapi.dev/api/starships/21/', 'https://swapi.dev/api/starships/32/', 'https://swapi.dev/api/starships/39/', 'https://swapi.dev/api/starships/43/', 'https://swapi.dev/api/starships/47/', 'https://swapi.dev/api/starships/48/', 'https://swapi.dev/api/starships/49/', 'https://swapi.dev/api/starships/52/', 'https://swapi.dev/api/starships/58/'], 'vehicles': ['https://swapi.dev/api/vehicles/4/', 'https://swapi.dev/api/vehicles/44/', 'https://swapi.dev/api/vehicles/45/', 'https://swapi.dev/api/vehicles/46/', 'https://swapi.dev/api/vehicles/50/', 'https://swapi.dev/api/vehicles/51/', 'https://swapi.dev/api/vehicles/53/', 'https://swapi.dev/api/vehicles/54/', 'https://swapi.dev/api/vehicles/55/', 'https://swapi.dev/api/vehicles/56/', 'https://swapi.dev/api/vehicles/57/'], 'species': ['https://swapi.dev/api/species/1/', 'https://swapi.dev/api/species/2/', 'https://swapi.dev/api/species/6/', 'https://swapi.dev/api/species/12/', 'https://swapi.dev/api/species/13/', 'https://swapi.dev/api/species/15/', 'https://swapi.dev/api/species/28/', 'https://swapi.dev/api/species/29/', 'https://swapi.dev/api/species/30/', 'https://swapi.dev/api/species/31/', 'https://swapi.dev/api/species/32/', 'https://swapi.dev/api/species/33/', 'https://swapi.dev/api/species/34/', 'https://swapi.dev/api/species/35/'], 'created': '2014-12-20T10:57:57.886000Z', 'edited': '2014-12-20T20:18:48.516000Z', 'url': 'https://swapi.dev/api/films/5/'}, {'title': 'Revenge of the Sith', 'episode_id': 3, 'opening_crawl': 'War! The Republic is crumbling under attacks by the ruthless Sith Lord, Count Dooku. There are heroes on both sides. Evil is everywhere.  In a stunning move, the fiendish droid leader, General Grievous, has swept into the Republic capital and kidnapped Chancellor Palpatine, leader of the Galactic Senate.  As the Separatist Droid Army attempts to flee the besieged capital with their valuable hostage, two Jedi Knights lead a desperate mission to rescue the captive Chancellor....', 'director': 'George Lucas', 'producer': 'Rick McCallum', 'release_date': '2005-05-19', 'characters': ['https://swapi.dev/api/people/1/', 'https://swapi.dev/api/people/2/', 'https://swapi.dev/api/people/3/', 'https://swapi.dev/api/people/4/', 'https://swapi.dev/api/people/5/', 'https://swapi.dev/api/people/6/', 'https://swapi.dev/api/people/7/', 'https://swapi.dev/api/people/10/', 'https://swapi.dev/api/people/11/', 'https://swapi.dev/api/people/12/', 'https://swapi.dev/api/people/13/', 'https://swapi.dev/api/people/20/', 'https://swapi.dev/api/people/21/', 'https://swapi.dev/api/people/33/', 'https://swapi.dev/api/people/35/', 'https://swapi.dev/api/people/46/', 'https://swapi.dev/api/people/51/', 'https://swapi.dev/api/people/52/', 'https://swapi.dev/api/people/53/', 'https://swapi.dev/api/people/54/', 'https://swapi.dev/api/people/55/', 'https://swapi.dev/api/people/56/', 'https://swapi.dev/api/people/58/', 'https://swapi.dev/api/people/63/', 'https://swapi.dev/api/people/64/', 'https://swapi.dev/api/people/67/', 'https://swapi.dev/api/people/68/', 'https://swapi.dev/api/people/75/', 'https://swapi.dev/api/people/78/', 'https://swapi.dev/api/people/79/', 'https://swapi.dev/api/people/80/', 'https://swapi.dev/api/people/81/', 'https://swapi.dev/api/people/82/', 'https://swapi.dev/api/people/83/'], 'planets': ['https://swapi.dev/api/planets/1/', 'https://swapi.dev/api/planets/2/', 'https://swapi.dev/api/planets/5/', 'https://swapi.dev/api/planets/8/', 'https://swapi.dev/api/planets/9/', 'https://swapi.dev/api/planets/12/', 'https://swapi.dev/api/planets/13/', 'https://swapi.dev/api/planets/14/', 'https://swapi.dev/api/planets/15/', 'https://swapi.dev/api/planets/16/', 'https://swapi.dev/api/planets/17/', 'https://swapi.dev/api/planets/18/', 'https://swapi.dev/api/planets/19/'], 'starships': ['https://swapi.dev/api/starships/2/', 'https://swapi.dev/api/starships/32/', 'https://swapi.dev/api/starships/48/', 'https://swapi.dev/api/starships/59/', 'https://swapi.dev/api/starships/61/', 'https://swapi.dev/api/starships/63/', 'https://swapi.dev/api/starships/64/', 'https://swapi.dev/api/starships/65/', 'https://swapi.dev/api/starships/66/', 'https://swapi.dev/api/starships/68/', 'https://swapi.dev/api/starships/74/', 'https://swapi.dev/api/starships/75/'], 'vehicles': ['https://swapi.dev/api/vehicles/33/', 'https://swapi.dev/api/vehicles/50/', 'https://swapi.dev/api/vehicles/53/', 'https://swapi.dev/api/vehicles/56/', 'https://swapi.dev/api/vehicles/60/', 'https://swapi.dev/api/vehicles/62/', 'https://swapi.dev/api/vehicles/67/', 'https://swapi.dev/api/vehicles/69/', 'https://swapi.dev/api/vehicles/70/', 'https://swapi.dev/api/vehicles/71/', 'https://swapi.dev/api/vehicles/72/', 'https://swapi.dev/api/vehicles/73/', 'https://swapi.dev/api/vehicles/76/'], 'species': ['https://swapi.dev/api/species/1/', 'https://swapi.dev/api/species/2/', 'https://swapi.dev/api/species/3/', 'https://swapi.dev/api/species/6/', 'https://swapi.dev/api/species/15/', 'https://swapi.dev/api/species/19/', 'https://swapi.dev/api/species/20/', 'https://swapi.dev/api/species/23/', 'https://swapi.dev/api/species/24/', 'https://swapi.dev/api/species/25/', 'https://swapi.dev/api/species/26/', 'https://swapi.dev/api/species/27/', 'https://swapi.dev/api/species/28/', 'https://swapi.dev/api/species/29/', 'https://swapi.dev/api/species/30/', 'https://swapi.dev/api/species/33/', 'https://swapi.dev/api/species/34/', 'https://swapi.dev/api/species/35/', 'https://swapi.dev/api/species/36/', 'https://swapi.dev/api/species/37/'], 'created': '2014-12-20T18:49:38.403000Z', 'edited': '2014-12-20T20:47:52.073000Z', 'url': 'https://swapi.dev/api/films/6/'}]\n"
     ]
    }
   ],
   "source": [
    "#Make labels with keys\n",
    "labels = []\n",
    "for film in films:\n",
    "    # film.pop(\"opening_crawl\")\n",
    "    for key, val in film.items():\n",
    "        if(key not in labels):labels.append(key)\n",
    "        # print(\"KEY: \",key)\n",
    "\n",
    "# key_to_pop = 'author'\n",
    "\n",
    "# # Pop the specified key from each dictionary in the list\n",
    "# for d in list_of_dicts:\n",
    "#     d.pop(key_to_pop, None)\n",
    "\n",
    "print(labels)\n",
    "# field_names = list(films.keys())\n",
    "# print(field_names)\n",
    "\n",
    "# films = films.pop('opening_crawl')\n",
    "print(films)"
   ]
  },
  {
   "cell_type": "code",
   "execution_count": 4,
   "metadata": {},
   "outputs": [],
   "source": [
    "csv_file_out = \"Bronze/films.csv\"\n",
    "with open(csv_file_out, 'w',newline='',encoding='utf-8') as csv_file:\n",
    "# Write header    \n",
    "    # # Create a CSV writer\n",
    "    # field_names = list(films.keys())\n",
    "\n",
    "    field_names = []\n",
    "    for film in films:\n",
    "        for key, val in film.items():\n",
    "            field_names.append(key)\n",
    "\n",
    "\n",
    "    csv_writer = csv.DictWriter(csv_file, fieldnames=labels)\n",
    "    # field_names = list(data[0].keys())\n",
    "    # csv_writer = csv.writer(csv_file)\n",
    "\n",
    "    # Write the header to the CSV file\n",
    "    csv_writer.writeheader()\n",
    "\n",
    "    # Write the data to the CSV file\n",
    "    # for film in films:\n",
    "        # csv_writer.writerow(film.keys())\n",
    "        # csv_writer.writerow(film.keys().values())\n",
    "    csv_writer.writerows(films)\n",
    "        "
   ]
  }
 ],
 "metadata": {
  "kernelspec": {
   "display_name": "Python 3",
   "language": "python",
   "name": "python3"
  },
  "language_info": {
   "codemirror_mode": {
    "name": "ipython",
    "version": 3
   },
   "file_extension": ".py",
   "mimetype": "text/x-python",
   "name": "python",
   "nbconvert_exporter": "python",
   "pygments_lexer": "ipython3",
   "version": "3.11.5"
  }
 },
 "nbformat": 4,
 "nbformat_minor": 2
}
