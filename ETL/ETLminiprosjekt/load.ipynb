{
 "cells": [
  {
   "cell_type": "code",
   "execution_count": 1,
   "metadata": {},
   "outputs": [],
   "source": [
    "import psycopg2\n",
    "import csv"
   ]
  },
  {
   "cell_type": "code",
   "execution_count": 2,
   "metadata": {},
   "outputs": [],
   "source": [
    "host = 'summer22data.postgres.database.azure.com'\n",
    "user = 'student_marius'\n",
    "password = 'marius'\n",
    "db_port = 5432\n",
    "dbname = 'daily_marius'"
   ]
  },
  {
   "cell_type": "code",
   "execution_count": 3,
   "metadata": {},
   "outputs": [
    {
     "name": "stdout",
     "output_type": "stream",
     "text": [
      "Connection established\n"
     ]
    }
   ],
   "source": [
    "conn_string = f\"host={host} user={user} dbname={dbname} password={password}\"\n",
    "conn = psycopg2.connect(conn_string)\n",
    "print(\"Connection established\")"
   ]
  },
  {
   "cell_type": "code",
   "execution_count": 4,
   "metadata": {},
   "outputs": [],
   "source": [
    "# See https://www.psycopg.org/docs/usage.html for usage of psycopg2\n",
    "# Open a cursor to the database - remember to close this after you have done everything!\n",
    "\n",
    "cur = conn.cursor()\n",
    "# If something goes wrong (you get transactionerror)- use the command below\n",
    "cur.execute(\"rollback\") "
   ]
  },
  {
   "cell_type": "code",
   "execution_count": null,
   "metadata": {},
   "outputs": [],
   "source": []
  },
  {
   "cell_type": "code",
   "execution_count": 11,
   "metadata": {},
   "outputs": [
    {
     "name": "stdout",
     "output_type": "stream",
     "text": [
      "dict_keys(['title', 'episode_id', 'director', 'producer', 'release_date'])\n",
      "dict_keys(['title', 'episode_id', 'director', 'producer', 'release_date'])\n",
      "dict_keys(['title', 'episode_id', 'director', 'producer', 'release_date'])\n",
      "dict_keys(['title', 'episode_id', 'director', 'producer', 'release_date'])\n",
      "dict_keys(['title', 'episode_id', 'director', 'producer', 'release_date'])\n",
      "dict_keys(['title', 'episode_id', 'director', 'producer', 'release_date'])\n"
     ]
    }
   ],
   "source": [
    "filepath = \"silver/films.csv\"\n",
    "list_of_dicts = []\n",
    "with open(filepath) as csvfile_dict:\n",
    "\n",
    "    # reader_dict = csv.DictReader(csvfile_dict, fieldnames=['fornavn', 'etternavn', 'tlf', 'kulhet'])\n",
    "    reader_dict = csv.DictReader(csvfile_dict)\n",
    "    # for dicts in reader_dict:\n",
    "    #     print(dicts)\n",
    "    # table_name = 'marius_starwars'+'_films'\n",
    "    # create_table_query = f\"DROP TABLE IF EXISTS {table_name} cascade;\"\n",
    "    # cur.execute(create_table_query)\n",
    "\n",
    "    # # insert = f\"INSERT INTO {table_name} person (birthdate, first_name, last_name) VALUES\"\n",
    "    \n",
    "    # #GET COLUMN NAMES AND TYPES\n",
    "    # cur.execute(f\"CREATE TABLE {table_name}();\")\n",
    "    column_names = []\n",
    "\n",
    "    for dict in reader_dict:\n",
    "        print(dict.keys())\n",
    "    \n",
    "    # conn.close()"
   ]
  },
  {
   "cell_type": "code",
   "execution_count": 6,
   "metadata": {},
   "outputs": [],
   "source": [
    "for dicts in list_of_dicts:\n",
    "    print(dicts)"
   ]
  },
  {
   "cell_type": "code",
   "execution_count": 15,
   "metadata": {},
   "outputs": [
    {
     "ename": "SyntaxError",
     "evalue": "syntax error at or near \";\"\nLINE 1: ...films (title, episode_id, director, producer, release_date);\n                                                                      ^\n",
     "output_type": "error",
     "traceback": [
      "\u001b[1;31m---------------------------------------------------------------------------\u001b[0m",
      "\u001b[1;31mSyntaxError\u001b[0m                               Traceback (most recent call last)",
      "Cell \u001b[1;32mIn[15], line 52\u001b[0m\n\u001b[0;32m     49\u001b[0m port \u001b[38;5;241m=\u001b[39m \u001b[38;5;241m5432\u001b[39m\n\u001b[0;32m     50\u001b[0m db_name \u001b[38;5;241m=\u001b[39m \u001b[38;5;124m'\u001b[39m\u001b[38;5;124mdaily_marius\u001b[39m\u001b[38;5;124m'\u001b[39m\n\u001b[1;32m---> 52\u001b[0m \u001b[43mcreate_and_populate_tables\u001b[49m\u001b[43m(\u001b[49m\u001b[43mdirectory_path\u001b[49m\u001b[43m,\u001b[49m\u001b[43m \u001b[49m\u001b[43mdb_name\u001b[49m\u001b[43m,\u001b[49m\u001b[43m \u001b[49m\u001b[43muser\u001b[49m\u001b[43m,\u001b[49m\u001b[43m \u001b[49m\u001b[43mpassword\u001b[49m\u001b[43m,\u001b[49m\u001b[43m \u001b[49m\u001b[43mhost\u001b[49m\u001b[43m,\u001b[49m\u001b[43m \u001b[49m\u001b[43mport\u001b[49m\u001b[43m)\u001b[49m\n",
      "Cell \u001b[1;32mIn[15], line 24\u001b[0m, in \u001b[0;36mcreate_and_populate_tables\u001b[1;34m(directory_path, db_name, user, password, host, port)\u001b[0m\n\u001b[0;32m     22\u001b[0m \u001b[38;5;66;03m# Create table with dynamic column names\u001b[39;00m\n\u001b[0;32m     23\u001b[0m create_table_query \u001b[38;5;241m=\u001b[39m \u001b[38;5;124mf\u001b[39m\u001b[38;5;124m\"\u001b[39m\u001b[38;5;124mCREATE TABLE IF NOT EXISTS \u001b[39m\u001b[38;5;132;01m{\u001b[39;00mfilename[:\u001b[38;5;241m-\u001b[39m\u001b[38;5;241m4\u001b[39m]\u001b[38;5;132;01m}\u001b[39;00m\u001b[38;5;124m (\u001b[39m\u001b[38;5;132;01m{\u001b[39;00m\u001b[38;5;124m'\u001b[39m\u001b[38;5;124m, \u001b[39m\u001b[38;5;124m'\u001b[39m\u001b[38;5;241m.\u001b[39mjoin(columns)\u001b[38;5;132;01m}\u001b[39;00m\u001b[38;5;124m);\u001b[39m\u001b[38;5;124m\"\u001b[39m\n\u001b[1;32m---> 24\u001b[0m \u001b[43mcursor\u001b[49m\u001b[38;5;241;43m.\u001b[39;49m\u001b[43mexecute\u001b[49m\u001b[43m(\u001b[49m\u001b[43mcreate_table_query\u001b[49m\u001b[43m)\u001b[49m\n\u001b[0;32m     26\u001b[0m \u001b[38;5;66;03m# Read the remaining rows and insert data into the table\u001b[39;00m\n\u001b[0;32m     27\u001b[0m \u001b[38;5;28;01mwith\u001b[39;00m \u001b[38;5;28mopen\u001b[39m(csv_path, \u001b[38;5;124m'\u001b[39m\u001b[38;5;124mr\u001b[39m\u001b[38;5;124m'\u001b[39m) \u001b[38;5;28;01mas\u001b[39;00m csvfile:\n",
      "\u001b[1;31mSyntaxError\u001b[0m: syntax error at or near \";\"\nLINE 1: ...films (title, episode_id, director, producer, release_date);\n                                                                      ^\n"
     ]
    }
   ],
   "source": [
    "# #Read files from the silver directory, and create tables with column name from the first row and populate each row later in the csv file\n",
    "\n",
    "import os\n",
    "import csv\n",
    "import psycopg2\n",
    "\n",
    "def create_and_populate_tables(directory_path, db_name, user, password, host, port):\n",
    "    # Connect to PostgreSQL database\n",
    "    conn = psycopg2.connect(dbname=db_name, user=user, password=password, host=host, port=port)\n",
    "    cursor = conn.cursor()\n",
    "\n",
    "    # Iterate through CSV files in the specified directory\n",
    "    for filename in os.listdir(directory_path):\n",
    "        if filename.endswith(\".csv\"):\n",
    "            csv_path = os.path.join(directory_path, filename)\n",
    "\n",
    "            # Read the first row to get column names\n",
    "            with open(csv_path, 'r') as csvfile:\n",
    "                csv_reader = csv.reader(csvfile)\n",
    "                columns = next(csv_reader)\n",
    "\n",
    "            # Create table with dynamic column names\n",
    "            create_table_query = f\"CREATE TABLE IF NOT EXISTS {filename[:-4]} ({', '.join(columns)});\"\n",
    "            cursor.execute(create_table_query)\n",
    "\n",
    "            # Read the remaining rows and insert data into the table\n",
    "            with open(csv_path, 'r') as csvfile:\n",
    "                csv_reader = csv.DictReader(csvfile)\n",
    "                insert_query = f\"INSERT INTO {filename[:-4]} VALUES ({', '.join(['%s']*len(columns))})\"\n",
    "                for row in csv_reader:\n",
    "                    cursor.execute(insert_query, tuple(row.values()))\n",
    "\n",
    "    # Commit and close the connection\n",
    "    conn.commit()\n",
    "    conn.close()\n",
    "\n",
    "# Example usage\n",
    "directory_path = 'your_directory_path'\n",
    "db_name = 'your_database_name'\n",
    "user = 'your_username'\n",
    "password = 'your_password'\n",
    "host = 'your_host'\n",
    "port = 'your_port'\n",
    "\n",
    "directory_path = 'silver'\n",
    "host = 'summer22data.postgres.database.azure.com'\n",
    "user = 'student_marius'\n",
    "password = 'marius'\n",
    "port = 5432\n",
    "db_name = 'daily_marius'\n",
    "\n",
    "create_and_populate_tables(directory_path, db_name, user, password, host, port)\n"
   ]
  }
 ],
 "metadata": {
  "kernelspec": {
   "display_name": "Python 3",
   "language": "python",
   "name": "python3"
  },
  "language_info": {
   "codemirror_mode": {
    "name": "ipython",
    "version": 3
   },
   "file_extension": ".py",
   "mimetype": "text/x-python",
   "name": "python",
   "nbconvert_exporter": "python",
   "pygments_lexer": "ipython3",
   "version": "3.11.5"
  }
 },
 "nbformat": 4,
 "nbformat_minor": 2
}
