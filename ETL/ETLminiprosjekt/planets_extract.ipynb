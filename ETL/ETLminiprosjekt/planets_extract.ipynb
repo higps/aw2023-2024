{
 "cells": [
  {
   "cell_type": "code",
   "execution_count": 4,
   "metadata": {},
   "outputs": [],
   "source": [
    "import csv\n",
    "\n"
   ]
  },
  {
   "cell_type": "code",
   "execution_count": 5,
   "metadata": {},
   "outputs": [],
   "source": [
    "def is_valid_csv(file_path):\n",
    "    try:\n",
    "        with open(file_path, 'r', newline='') as csv_file:\n",
    "            csv.reader(csv_file)\n",
    "        return True\n",
    "    except csv.Error:\n",
    "        return False\n",
    "\n"
   ]
  },
  {
   "cell_type": "code",
   "execution_count": 7,
   "metadata": {},
   "outputs": [
    {
     "name": "stdout",
     "output_type": "stream",
     "text": [
      "raw/planets.csv is a valid CSV file.\n"
     ]
    }
   ],
   "source": [
    "# Example usage\n",
    "file_path = 'raw/planets.csv'\n",
    "\n",
    "if is_valid_csv(file_path):\n",
    "    print(f\"{file_path} is a valid CSV file.\")\n",
    "else:\n",
    "    print(f\"{file_path} is not a valid CSV file.\")"
   ]
  }
 ],
 "metadata": {
  "kernelspec": {
   "display_name": "Python 3",
   "language": "python",
   "name": "python3"
  },
  "language_info": {
   "codemirror_mode": {
    "name": "ipython",
    "version": 3
   },
   "file_extension": ".py",
   "mimetype": "text/x-python",
   "name": "python",
   "nbconvert_exporter": "python",
   "pygments_lexer": "ipython3",
   "version": "3.11.5"
  }
 },
 "nbformat": 4,
 "nbformat_minor": 2
}
