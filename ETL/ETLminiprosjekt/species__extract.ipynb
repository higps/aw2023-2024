{
 "cells": [
  {
   "cell_type": "code",
   "execution_count": 25,
   "metadata": {},
   "outputs": [],
   "source": [
    "import requests\n",
    "import csv"
   ]
  },
  {
   "cell_type": "code",
   "execution_count": 26,
   "metadata": {},
   "outputs": [],
   "source": [
    "response = requests.get(\"https://swapi.dev/api/species\")"
   ]
  },
  {
   "cell_type": "code",
   "execution_count": 27,
   "metadata": {},
   "outputs": [
    {
     "name": "stdout",
     "output_type": "stream",
     "text": [
      "Request was successful!\n"
     ]
    }
   ],
   "source": [
    "# We can use response.ok to check that the response is successful HTTP code starts with 2\n",
    "if response.ok:\n",
    "    print(\"Request was successful!\")\n",
    "# If we use the response.json() function, we get a dict back!\n",
    "# type(response.json())\n",
    "\n",
    "json_response = response.json()"
   ]
  },
  {
   "cell_type": "code",
   "execution_count": 28,
   "metadata": {},
   "outputs": [],
   "source": [
    "species = json_response[\"results\"]"
   ]
  },
  {
   "cell_type": "code",
   "execution_count": 29,
   "metadata": {},
   "outputs": [],
   "source": [
    "csv_file_out = \"Bronze/species.csv\"\n",
    "with open(csv_file_out, 'w',newline='',encoding='utf-8') as csv_file:\n",
    "\n",
    "    labels = []\n",
    "    for specie in species:\n",
    "        # film.pop(\"opening_crawl\")\n",
    "        for key, val in specie.items():\n",
    "            if(key not in labels):labels.append(key)\n",
    "\n",
    "    csv_writer = csv.DictWriter(csv_file, fieldnames=labels)\n",
    "\n",
    "    # Write the header to the CSV file\n",
    "    csv_writer.writeheader()\n",
    "\n",
    "    # Write the data to the CSV file\n",
    "    csv_writer.writerows(species)"
   ]
  }
 ],
 "metadata": {
  "kernelspec": {
   "display_name": "Python 3",
   "language": "python",
   "name": "python3"
  },
  "language_info": {
   "codemirror_mode": {
    "name": "ipython",
    "version": 3
   },
   "file_extension": ".py",
   "mimetype": "text/x-python",
   "name": "python",
   "nbconvert_exporter": "python",
   "pygments_lexer": "ipython3",
   "version": "3.11.5"
  }
 },
 "nbformat": 4,
 "nbformat_minor": 2
}
