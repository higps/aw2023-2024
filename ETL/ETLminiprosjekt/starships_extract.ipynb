{
 "cells": [
  {
   "cell_type": "code",
   "execution_count": 1,
   "metadata": {},
   "outputs": [],
   "source": [
    "import psycopg2\n",
    "import csv"
   ]
  },
  {
   "cell_type": "code",
   "execution_count": 2,
   "metadata": {},
   "outputs": [],
   "source": [
    "host = 'summer22data.postgres.database.azure.com'\n",
    "user = 'student_marius'\n",
    "password = 'marius'\n",
    "dbname = 'daily_marius'"
   ]
  },
  {
   "cell_type": "code",
   "execution_count": 3,
   "metadata": {},
   "outputs": [
    {
     "name": "stdout",
     "output_type": "stream",
     "text": [
      "Connection established\n"
     ]
    }
   ],
   "source": [
    "conn_string = f\"host={host} user={user} dbname={dbname} password={password}\"\n",
    "conn = psycopg2.connect(conn_string)\n",
    "print(\"Connection established\")"
   ]
  },
  {
   "cell_type": "code",
   "execution_count": 4,
   "metadata": {},
   "outputs": [],
   "source": [
    "table_to_find = 'swapi_starships'"
   ]
  },
  {
   "cell_type": "code",
   "execution_count": 5,
   "metadata": {},
   "outputs": [
    {
     "name": "stdout",
     "output_type": "stream",
     "text": [
      "List of tables:\n"
     ]
    }
   ],
   "source": [
    "# GETTING ALL TABLES AND CHECKING IF SWAPI STARSHIPS EXISTS\n",
    "cur = conn.cursor()\n",
    "cur.execute(\"rollback\") \n",
    "\n",
    "# Use a SQL query to retrieve a list of all tables\n",
    "# query = sql.SQL()\n",
    "cur.execute(\"SELECT table_name FROM information_schema.tables WHERE table_schema = 'public'\")\n",
    "\n",
    "tables = cur.fetchall()\n",
    "# Print the list of tables\n",
    "print(\"List of tables:\")\n",
    "table_exists = False\n",
    "for table in tables:\n",
    "    if table_to_find in table:\n",
    "        table_exists = True\n",
    "\n",
    "cur.close()"
   ]
  },
  {
   "cell_type": "code",
   "execution_count": 6,
   "metadata": {},
   "outputs": [],
   "source": [
    "if not table_exists:\n",
    "    exit()\n",
    "\n",
    "cur = conn.cursor()\n",
    "cur.execute(\"rollback\") \n",
    "cur.execute(f\"SELECT * FROM {table_to_find};\")\n",
    "\n",
    "labels = [desc[0] for desc in cur.description]\n",
    "row_data = []\n",
    "for row in cur:\n",
    "    row_data.append(row)\n",
    "cur.close()"
   ]
  },
  {
   "cell_type": "code",
   "execution_count": 7,
   "metadata": {},
   "outputs": [
    {
     "name": "stdout",
     "output_type": "stream",
     "text": [
      "[('CR90 corvette', 'CR90 corvette', 'Corellian Engineering Corporation', '3500000', '150', '950', '30-165', '600', 3000000, '1 year', 2.0, 60, 'corvette', '2014-12-10T14:20:33.369000Z', '2014-12-20T21:23:49.867000Z', 'https://swapi.dev/api/starships/2/'), ('Star Destroyer', 'Imperial I-class Star Destroyer', 'Kuat Drive Yards', '150000000', '1,600', '975', '47,060', 'n/a', 36000000, '2 years', 2.0, 60, 'Star Destroyer', '2014-12-10T15:08:19.848000Z', '2014-12-20T21:23:49.870000Z', 'https://swapi.dev/api/starships/3/'), ('Sentinel-class landing craft', 'Sentinel-class landing craft', 'Sienar Fleet Systems, Cyngus Spaceworks', '240000', '38', '1000', '5', '75', 180000, '1 month', 1.0, 70, 'landing craft', '2014-12-10T15:48:00.586000Z', '2014-12-20T21:23:49.873000Z', 'https://swapi.dev/api/starships/5/'), ('Death Star', 'DS-1 Orbital Battle Station', 'Imperial Department of Military Research, Sienar Fleet Systems', '1000000000000', '120000', 'n/a', '342,953', '843,342', 1000000000000, '3 years', 4.0, 10, 'Deep Space Mobile Battlestation', '2014-12-10T16:36:50.509000Z', '2014-12-20T21:26:24.783000Z', 'https://swapi.dev/api/starships/9/'), ('Millennium Falcon', 'YT-1300 light freighter', 'Corellian Engineering Corporation', '100000', '34.37', '1050', '4', '6', 100000, '2 months', 0.5, 75, 'Light freighter', '2014-12-10T16:59:45.094000Z', '2014-12-20T21:23:49.880000Z', 'https://swapi.dev/api/starships/10/'), ('Y-wing', 'BTL Y-wing', 'Koensayr Manufacturing', '134999', '14', '1000km', '2', '0', 110, '1 week', 1.0, 80, 'assault starfighter', '2014-12-12T11:00:39.817000Z', '2014-12-20T21:23:49.883000Z', 'https://swapi.dev/api/starships/11/'), ('X-wing', 'T-65 X-wing', 'Incom Corporation', '149999', '12.5', '1050', '1', '0', 110, '1 week', 1.0, 100, 'Starfighter', '2014-12-12T11:19:05.340000Z', '2014-12-20T21:23:49.886000Z', 'https://swapi.dev/api/starships/12/'), ('TIE Advanced x1', 'Twin Ion Engine Advanced x1', 'Sienar Fleet Systems', 'unknown', '9.2', '1200', '1', '0', 150, '5 days', 1.0, 105, 'Starfighter', '2014-12-12T11:21:32.991000Z', '2014-12-20T21:23:49.889000Z', 'https://swapi.dev/api/starships/13/'), ('Executor', 'Executor-class star dreadnought', 'Kuat Drive Yards, Fondor Shipyards', '1143350000', '19000', 'n/a', '279,144', '38000', 250000000, '6 years', 2.0, 40, 'Star dreadnought', '2014-12-15T12:31:42.547000Z', '2014-12-20T21:23:49.893000Z', 'https://swapi.dev/api/starships/15/'), ('Rebel transport', 'GR-75 medium transport', 'Gallofree Yards, Inc.', 'unknown', '90', '650', '6', '90', 19000000, '6 months', 4.0, 20, 'Medium transport', '2014-12-15T12:34:52.264000Z', '2014-12-20T21:23:49.895000Z', 'https://swapi.dev/api/starships/17/')]\n"
     ]
    }
   ],
   "source": [
    "print(row_data)"
   ]
  },
  {
   "cell_type": "code",
   "execution_count": 8,
   "metadata": {},
   "outputs": [
    {
     "name": "stdout",
     "output_type": "stream",
     "text": [
      "name\n",
      "model\n",
      "manufacturer\n",
      "cost_in_credits\n",
      "length\n",
      "max_atmosphering_speed\n",
      "crew\n",
      "passengers\n",
      "cargo_capacity\n",
      "consumables\n",
      "hyperdrive_rating\n",
      "MGLT\n",
      "starship_class\n",
      "created\n",
      "edited\n",
      "url\n"
     ]
    }
   ],
   "source": [
    "\n",
    "\n",
    "for label in labels:\n",
    "    print(label)\n"
   ]
  },
  {
   "cell_type": "code",
   "execution_count": 9,
   "metadata": {},
   "outputs": [],
   "source": [
    "csv_file_out = \"Bronze/starships.csv\"\n",
    "with open(csv_file_out, 'w',newline='',encoding='utf-8') as csv_file:\n",
    "# Write header    \n",
    "    # # Create a CSV writer\n",
    "    # field_names = list(films.keys())\n",
    "\n",
    "    # field_names = []\n",
    "    # for film in films:\n",
    "    #     for key, val in film.items():\n",
    "    #         field_names.append(key)\n",
    "\n",
    "\n",
    "    csv_writer = csv.writer(csv_file)\n",
    "    # field_names = list(data[0].keys())\n",
    "    # csv_writer = csv.writer(csv_file)\n",
    "\n",
    "    # Write the header to the CSV file\n",
    "    csv_writer.writerow(labels)\n",
    "\n",
    "    # Write the data to the CSV file\n",
    "    # for film in films:\n",
    "        # csv_writer.writerow(film.keys())\n",
    "        # csv_writer.writerow(film.keys().values())\n",
    "    csv_writer.writerows(row_data)\n"
   ]
  }
 ],
 "metadata": {
  "kernelspec": {
   "display_name": "Python 3",
   "language": "python",
   "name": "python3"
  },
  "language_info": {
   "codemirror_mode": {
    "name": "ipython",
    "version": 3
   },
   "file_extension": ".py",
   "mimetype": "text/x-python",
   "name": "python",
   "nbconvert_exporter": "python",
   "pygments_lexer": "ipython3",
   "version": "3.11.5"
  }
 },
 "nbformat": 4,
 "nbformat_minor": 2
}
