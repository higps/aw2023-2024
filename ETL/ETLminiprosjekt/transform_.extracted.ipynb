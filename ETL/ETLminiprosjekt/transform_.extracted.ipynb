{
 "cells": [
  {
   "cell_type": "code",
   "execution_count": 21,
   "metadata": {},
   "outputs": [],
   "source": [
    "import csv"
   ]
  },
  {
   "cell_type": "code",
   "execution_count": 22,
   "metadata": {},
   "outputs": [],
   "source": [
    "# Create the labels for what I want to transform\n",
    "def create_labels(film_dict_list):\n",
    "    labels = []\n",
    "    for dicto in film_dict_list:\n",
    "        for key,val in dicto.items():\n",
    "            # print(key)\n",
    "            if key not in labels:\n",
    "                labels.append(key)\n",
    "    return labels"
   ]
  },
  {
   "cell_type": "code",
   "execution_count": null,
   "metadata": {},
   "outputs": [],
   "source": []
  },
  {
   "cell_type": "code",
   "execution_count": 23,
   "metadata": {},
   "outputs": [],
   "source": [
    "def trim_columns(columns_to_include,columns_to_exclude, labels):\n",
    "    selected_labels = []\n",
    "    for i,column in enumerate(labels):        \n",
    "        if i < columns_to_include:\n",
    "            selected_labels.append(column)\n",
    "\n",
    "    #Removes the excluded columns\n",
    "    for column in selected_labels:\n",
    "        if column in columns_to_exclude:\n",
    "            print(\"removing column\", column)\n",
    "            selected_labels.remove(column)\n",
    "\n",
    "    return selected_labels"
   ]
  },
  {
   "cell_type": "code",
   "execution_count": 24,
   "metadata": {},
   "outputs": [],
   "source": [
    "# ChatGPT snippet that removes duplicate dictionaries from a list and returns the updated list\n",
    "def hashable_dict(d):\n",
    "    return frozenset(d.items())\n",
    "\n",
    "def remove_duplicate_dicts(list_of_dicts):\n",
    "    seen_hashes = set()\n",
    "    unique_list_of_dicts = []\n",
    "\n",
    "    for d in list_of_dicts:\n",
    "        hashable = hashable_dict(d)\n",
    "        if hashable not in seen_hashes:\n",
    "            unique_list_of_dicts.append(d)\n",
    "            seen_hashes.add(hashable)\n",
    "        else:\n",
    "            print(\"Duplicate removed it was: \", d)\n",
    "    \n",
    "    return unique_list_of_dicts"
   ]
  },
  {
   "cell_type": "code",
   "execution_count": 25,
   "metadata": {},
   "outputs": [],
   "source": [
    "def to_silver_with_include_exclude(filepath,out_filename, columns_to_include_index, columns_to_exclude, remove_duplicates=False):\n",
    "    dict_list = []\n",
    "    with open(filepath, 'r') as csvfile_dict:\n",
    "\n",
    "        # reader_dict = csv.DictReader(csvfile_dict, fieldnames=['fornavn', 'etternavn', 'tlf', 'kulhet'])\n",
    "        reader_dict = csv.DictReader(csvfile_dict)\n",
    "        for dicto in reader_dict:\n",
    "            dict_list.append(dicto)\n",
    "    \n",
    "    # Create all the labels\n",
    "    labels = create_labels(dict_list)\n",
    "    # Keep or remove labels, columns_to_\n",
    "    selected_labels = trim_columns(columns_to_include_index,columns_to_exclude, labels)\n",
    "\n",
    "    \n",
    "    if remove_duplicates:\n",
    "        print(\"Rows before dupe removal\",len(dict_list))\n",
    "        dict_list = remove_duplicate_dicts(dict_list)\n",
    "        print(\"Rows after dupe removal\",len(dict_list))\n",
    "    #Save to silver\n",
    "    with open(out_filename, 'w', newline='') as csvfile:\n",
    "\n",
    "        title_writer = csv.writer(csvfile)\n",
    "        title_writer.writerow(selected_labels)\n",
    "\n",
    "        writer = csv.DictWriter(csvfile, fieldnames=selected_labels)\n",
    "\n",
    "        # writer.writerow(selected_labels)\n",
    "        for dicts in dict_list:\n",
    "                selected_data = {i: dicts[i] for i in selected_labels}\n",
    "                writer.writerow(selected_data)"
   ]
  },
  {
   "cell_type": "code",
   "execution_count": 26,
   "metadata": {},
   "outputs": [
    {
     "name": "stdout",
     "output_type": "stream",
     "text": [
      "removing column opening_crawl\n",
      "removing column characters\n"
     ]
    }
   ],
   "source": [
    "#Films\n",
    "columns_index_to_include = 7\n",
    "columns_names_to_exclude = [\"opening_crawl\", \"characters\"]\n",
    "filepath_in = 'bronze/films.csv'\n",
    "out_filename = 'silver/films.csv'\n",
    "to_silver_with_include_exclude(filepath_in,out_filename, columns_index_to_include, columns_names_to_exclude)\n",
    "\n",
    "\n"
   ]
  },
  {
   "cell_type": "code",
   "execution_count": 27,
   "metadata": {},
   "outputs": [
    {
     "name": "stdout",
     "output_type": "stream",
     "text": [
      "removing column hair_color\n",
      "removing column eye_color\n",
      "removing column homeworld\n"
     ]
    }
   ],
   "source": [
    "# person,height,mass,hair_color,skin_color,eye_color,birth_year,gender,homeworld\n",
    "columns_index_to_include = 10\n",
    "columns_names_to_exclude = [\"hair_color\",\"skin_color\",\"eye_color\",\"homeworld\"]\n",
    "filepath_in = 'bronze/people.csv'\n",
    "out_filename = 'silver/people.csv'\n",
    "to_silver_with_include_exclude(filepath_in,out_filename, columns_index_to_include, columns_names_to_exclude,remove_duplicates=False)"
   ]
  },
  {
   "cell_type": "code",
   "execution_count": 28,
   "metadata": {},
   "outputs": [],
   "source": [
    "#Planets\n",
    "columns_index_to_include = 1\n",
    "columns_names_to_exclude = []\n",
    "filepath_in = 'bronze/planets.csv'\n",
    "out_filename = 'silver/planets.csv'\n",
    "to_silver_with_include_exclude(filepath_in,out_filename, columns_index_to_include, columns_names_to_exclude)"
   ]
  },
  {
   "cell_type": "code",
   "execution_count": 29,
   "metadata": {},
   "outputs": [],
   "source": [
    "#Species\n",
    "# name,classification,designation,average_height,skin_colors,hair_colors,eye_colors,average_lifespan,homeworld,language,people,films,created,edited,url\n",
    "columns_index_to_include = 3\n",
    "columns_names_to_exclude = []\n",
    "filepath_in = 'bronze/species.csv'\n",
    "out_filename = 'silver/species.csv'\n",
    "to_silver_with_include_exclude(filepath_in,out_filename, columns_index_to_include, columns_names_to_exclude)"
   ]
  },
  {
   "cell_type": "code",
   "execution_count": 30,
   "metadata": {},
   "outputs": [],
   "source": [
    "#Starships\n",
    "# name,model,manufacturer,cost_in_credits,length,max_atmosphering_speed,crew,passengers,cargo_capacity,consumables,hyperdrive_rating,MGLT,starship_class,created,edited,url\n",
    "columns_index_to_include = 2\n",
    "columns_names_to_exclude = []\n",
    "filepath_in = 'bronze/starships.csv'\n",
    "out_filename = 'silver/starships.csv'\n",
    "to_silver_with_include_exclude(filepath_in,out_filename, columns_index_to_include, columns_names_to_exclude)"
   ]
  },
  {
   "cell_type": "code",
   "execution_count": 31,
   "metadata": {},
   "outputs": [],
   "source": [
    "# filename = 'bronze/films.csv'\n",
    "# film_dict_list = []\n",
    "# with open(filename) as csvfile_dict:\n",
    "\n",
    "#     # reader_dict = csv.DictReader(csvfile_dict, fieldnames=['fornavn', 'etternavn', 'tlf', 'kulhet'])\n",
    "#     reader_dict = csv.DictReader(csvfile_dict)\n",
    "#     for dicto in reader_dict:\n",
    "#         film_dict_list.append(dicto)\n",
    "\n",
    "    \n",
    "    # read_dict = reader_dict.copy()       "
   ]
  },
  {
   "cell_type": "code",
   "execution_count": 32,
   "metadata": {},
   "outputs": [],
   "source": [
    "# out_filename = 'silver/films.csv'\n",
    "# #Save to silver\n",
    "# with open(out_filename, 'w', newline='') as csvfile:\n",
    "\n",
    "#     title_writer = csv.writer(csvfile)\n",
    "#     title_writer.writerow(selected_labels)\n",
    "#     fieldnames = selected_labels\n",
    "#     writer = csv.DictWriter(csvfile, fieldnames=fieldnames)\n",
    "\n",
    "#     # writer.writerow(selected_labels)\n",
    "#     for dicts in film_dict_list:\n",
    "#             selected_data = {i: dicts[i] for i in fieldnames}\n",
    "\n",
    "#             writer.writerow(selected_data)\n"
   ]
  }
 ],
 "metadata": {
  "kernelspec": {
   "display_name": "Python 3",
   "language": "python",
   "name": "python3"
  },
  "language_info": {
   "codemirror_mode": {
    "name": "ipython",
    "version": 3
   },
   "file_extension": ".py",
   "mimetype": "text/x-python",
   "name": "python",
   "nbconvert_exporter": "python",
   "pygments_lexer": "ipython3",
   "version": "3.11.5"
  }
 },
 "nbformat": 4,
 "nbformat_minor": 2
}
