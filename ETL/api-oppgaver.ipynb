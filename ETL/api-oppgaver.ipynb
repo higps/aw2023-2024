{
 "cells": [
  {
   "cell_type": "code",
   "execution_count": null,
   "metadata": {},
   "outputs": [],
   "source": [
    "import requests"
   ]
  },
  {
   "cell_type": "markdown",
   "metadata": {},
   "source": [
    "# Exercises\n",
    "\n",
    "## Public holidays\n",
    "For these exercises, we will use the API at `https://date.nager.at/Api`. The API can be used like this: `https://date.nager.at/api/v3/PublicHolidays/2022/NO`, which returns all holidays for 2022 for Norway. The API does not require authentication.\n",
    "\n",
    "1. Send a request to the API to get all public holidays for Norway in 2022. If the request is OK (status code 2xx) , print the response json.\n",
    "2. Create a function `get_public_holidays(year, country_code)` that returns all the public holidays for the given `year` and `country_code` by requesting the API. If the request towards the API fails, you should return \"Could not fetch holidays for {country} in {year}\"\n",
    "```\n",
    "get_public_holidays(2022, \"NO\")\n",
    "``` \n",
    "should return the json you get when you visit https://date.nager.at/api/v3/PublicHolidays/2022/NO\n",
    "```\n",
    "get_public_holidays(2005, \"NASFASD\") \n",
    "```\n",
    "should return \"Could not fetch holidays for NASDFASD in 2005.\n",
    "\n",
    "\n",
    "(Hint: Re-use some of the code you used in task 1, and base the error message on whether the response is OK or not)\n",
    "\n",
    "3. Write a function `get_norwegian_holiday_dates(holiday_name, years_back)` that returns all the dates of the given holiday for a number of years back.\n",
    "For instance\n",
    "```\n",
    "get_norwegian_holiday_dates(\"Langfredag\", 3) should return \n",
    "[\"2022-04-15\", \"2021-04-02\", \"2020-04-10\"] since these are the three last years dates of when \"Langfredag\" was. (2022, 2021, 2020) \n",
    "```\n",
    "Hint: Re-use the `get_public_holidays` function you created in task 2.\n",
    "Also, \n",
    "```\n",
    "for i in range(5,1,-1)\n",
    "```\n",
    " counts backwards from 5 to 1. \n",
    "\n",
    "\n",
    "4.\n",
    "If you have got this far- congrats! Try adding another API! \n",
    "This api: http://numbersapi.com can get cool facts about a given date. For instance, `http://numbersapi.com/8/9/date` gives gives fun facts about August 9th. \n",
    "Can you somehow combine it with some of the functions we have already got? "
   ]
  },
  {
   "cell_type": "code",
   "execution_count": null,
   "metadata": {},
   "outputs": [],
   "source": [
    "# 1. Send a request to the API to get all public holidays for Norway in 2022. If the request is OK (status code 2xx) , print the response json.\n",
    "\n",
    "response = requests.get(\"https://date.nager.at/api/v3/PublicHolidays/2022/NO\")\n",
    "\n",
    "\n"
   ]
  },
  {
   "cell_type": "code",
   "execution_count": null,
   "metadata": {},
   "outputs": [],
   "source": [
    "# We can use response.ok to check that the response is successful HTTP code starts with 2\n",
    "if response.ok:\n",
    "    print(\"Request was successful!\")\n",
    "# If we use the response.json() function, we get a dict back!\n",
    "type(response.json())\n",
    "\n",
    "json_response = response.json()\n",
    "\n",
    "print(json_response)"
   ]
  },
  {
   "cell_type": "code",
   "execution_count": null,
   "metadata": {},
   "outputs": [],
   "source": [
    "# 2. Create a function `get_public_holidays(year, country_code)` that returns all the public holidays for the given `year` and `country_code` by requesting the API. If the request towards the API fails, you should return \"Could not fetch holidays for {country} in {year}\"\n",
    "# ```\n",
    "# get_public_holidays(2022, \"NO\")\n",
    "# ``` \n",
    "# should return the json you get when you visit https://date.nager.at/api/v3/PublicHolidays/2022/NO\n",
    "# ```\n",
    "# get_public_holidays(2005, \"NASFASD\") \n",
    "# ```\n",
    "# should return \"Could not fetch holidays for NASDFASD in 2005.\n",
    "# (Hint: Re-use some of the code you used in task 1, and base the error message on whether the response is OK or not)\n",
    "\n",
    "def get_public_holidays(year, country_code):\n",
    "    response = requests.get(f\"https://date.nager.at/api/v3/PublicHolidays/{year}/{country_code}\")\n",
    "    \n",
    "    if not response.ok:\n",
    "        Error = f\"Could not fetch holidays for {country_code} in {year}!\"\n",
    "        return Error\n",
    "    def_json = response.json()\n",
    "    return def_json\n",
    "    # holiday_list = []\n",
    "    # # Double logic\n",
    "    # for key in def_json:\n",
    "    #     if (str(year) in str(key[\"date\"])) and (country_code == key[\"countryCode\"]):\n",
    "    #         holiday_list.append(key[\"localName\"])\n",
    "\n",
    "    # return holiday_list\n",
    "\n",
    "get_public_holidays(2022, \"NO\")\n",
    "# get_public_holidays(2005, \"NASFASD\") \n"
   ]
  },
  {
   "cell_type": "code",
   "execution_count": 85,
   "metadata": {},
   "outputs": [
    {
     "data": {
      "text/plain": [
       "['2022-04-15', '2021-04-02', '2020-04-10']"
      ]
     },
     "execution_count": 85,
     "metadata": {},
     "output_type": "execute_result"
    }
   ],
   "source": [
    "# 3. Write a function `get_norwegian_holiday_dates(holiday_name, years_back)` that returns all the dates of the given holiday for a number of years back.\n",
    "# For instance\n",
    "# ```\n",
    "# get_norwegian_holiday_dates(\"Langfredag\", 3) should return \n",
    "# [\"2022-04-15\", \"2021-04-02\", \"2020-04-10\"] since these are the three last years dates of when \"Langfredag\" was. (2022, 2021, 2020) \n",
    "# ```\n",
    "# Hint: Re-use the `get_public_holidays` function you created in task 2.\n",
    "# Also, \n",
    "# ```\n",
    "\n",
    "\n",
    "def get_norwegian_holiday_dates(holiday_name, years_back):\n",
    "    response_years = []\n",
    "    base_year = 2022\n",
    "    for years in range(years_back):\n",
    "        response_years.append(get_public_holidays(base_year-years, \"NO\"))\n",
    "    \n",
    "    # # Double logic\n",
    "    result = []\n",
    "    # print(response_years)\n",
    "    for list_level_1 in response_years:\n",
    "        for i in list_level_1:\n",
    "            if (holiday_name.lower() == i[\"localName\"].lower()):\n",
    "                result.append(i[\"date\"])\n",
    "        #     result.append(i[\"localName\"])\n",
    "\n",
    "    return result\n",
    "\n",
    "get_norwegian_holiday_dates(\"Langfredag\", 3) "
   ]
  }
 ],
 "metadata": {
  "kernelspec": {
   "display_name": "Python 3",
   "language": "python",
   "name": "python3"
  },
  "language_info": {
   "codemirror_mode": {
    "name": "ipython",
    "version": 3
   },
   "file_extension": ".py",
   "mimetype": "text/x-python",
   "name": "python",
   "nbconvert_exporter": "python",
   "pygments_lexer": "ipython3",
   "version": "3.11.5"
  }
 },
 "nbformat": 4,
 "nbformat_minor": 2
}
