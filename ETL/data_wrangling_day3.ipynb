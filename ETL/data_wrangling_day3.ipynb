{
 "cells": [
  {
   "cell_type": "markdown",
   "metadata": {},
   "source": [
    "### 1\n",
    "\n",
    "We have:\n",
    "\n",
    "```Python\n",
    "lol = [[1,2], [], [5,1,2,6]]\n",
    "```\n",
    "\n",
    "We want:\n",
    "\n",
    "```Python\n",
    "[1,2,5,1,2,6]\n",
    "```"
   ]
  },
  {
   "cell_type": "code",
   "execution_count": null,
   "metadata": {},
   "outputs": [],
   "source": [
    "lol = [[1,2], [], [5,1,2,6]]\n",
    "\n",
    "new_list = []\n",
    "for num in lol:\n",
    "    for single_num in num:\n",
    "        new_list.append(single_num)\n",
    "\n",
    "print(new_list)\n",
    "\n"
   ]
  },
  {
   "cell_type": "code",
   "execution_count": 55,
   "metadata": {},
   "outputs": [
    {
     "name": "stdout",
     "output_type": "stream",
     "text": [
      "[1, 2, 5, 1, 2, 6]\n"
     ]
    }
   ],
   "source": [
    "lol = [[1,2,], [], [5,1,2,6]]\n",
    "\n",
    "lol = sum(lol,[])\n",
    "print(lol)"
   ]
  },
  {
   "cell_type": "markdown",
   "metadata": {},
   "source": [
    "### 2\n",
    "\n",
    "We have:\n",
    "\n",
    "```Python\n",
    "lod = [{'id': '2', 'name': 'Anton'}, {'id': 3}, {'id': 4, 'name': 'Balloo'}]\n",
    "```\n",
    "\n",
    "We want:\n",
    "\n",
    "```Python\n",
    "{\n",
    "'id': ['2', 3, 4],\n",
    "'name': ['Anton', 'Balloo']\n",
    "}\n",
    "```"
   ]
  },
  {
   "cell_type": "code",
   "execution_count": null,
   "metadata": {},
   "outputs": [],
   "source": [
    "lod = [{'id': '2', 'name': 'Anton'}, {'id': 3}, {'id': 4, 'name': 'Balloo'}]\n",
    "\n",
    "dicto = {}\n",
    "# dicto[id] = id.value\n",
    "# dicto[name] = name.value\n",
    "for dictos in lod:\n",
    "    print(dictos)\n",
    "    for key, val in dictos.items():\n",
    "        if key not in dicto:\n",
    "            dicto[key] = []\n",
    "        dicto[key].append(val)\n",
    "\n",
    "print(dicto)"
   ]
  },
  {
   "cell_type": "markdown",
   "metadata": {},
   "source": [
    "### 3\n",
    "\n",
    "We have:\n",
    "\n",
    "```Python\n",
    "lod = [{'id': '2', 'name': 'Anton'}, {'id': 3}, {'id': 4, 'name': 'Balloo'}]\n",
    "```\n",
    "\n",
    "We want:\n",
    "\n",
    "```Python\n",
    "{\n",
    "'id': ['2', 3, 4],\n",
    "'name': ['Anton', None, 'Balloo']\n",
    "}\n",
    "```"
   ]
  },
  {
   "cell_type": "code",
   "execution_count": 51,
   "metadata": {},
   "outputs": [
    {
     "name": "stdout",
     "output_type": "stream",
     "text": [
      "{'id': '2', 'name': 'Anton'}\n",
      "{'id': 3}\n",
      "{'id': 4, 'name': 'Balloo'}\n",
      "{'id': ['2', 3, 4], 'name': ['Anton', 'Balloo']}\n"
     ]
    }
   ],
   "source": [
    "lod = [{'id': '2', 'name': 'Anton'}, {'id': 3}, {'id': 4, 'name': 'Balloo'}]\n",
    "\n",
    "dicto = {}\n",
    "for dictos in lod:\n",
    "    print(dictos)\n",
    "    for key, val in dictos.items():\n",
    "        if key not in dicto:\n",
    "            dicto[key] = []\n",
    "        dicto[key].append(val)\n",
    "\n",
    "\n",
    "print(dicto)\n"
   ]
  },
  {
   "cell_type": "code",
   "execution_count": 52,
   "metadata": {},
   "outputs": [
    {
     "name": "stdout",
     "output_type": "stream",
     "text": [
      "{'id': '2', 'name': 'Anton'}\n",
      "{'id': 3}\n",
      "{'id': 4, 'name': 'Balloo'}\n",
      "{'id': ['2', 3, 4], 'name': ['Anton', None, 'Balloo']}\n"
     ]
    }
   ],
   "source": [
    "lod = [{'id': '2', 'name': 'Anton'}, {'id': 3}, {'id': 4, 'name': 'Balloo'}]\n",
    "\n",
    "dicto = {}\n",
    "for dictos in lod:\n",
    "    print(dictos)\n",
    "    for key in set(dicto.keys()).union(dictos.keys()):\n",
    "        dicto.setdefault(key, []).append(dictos.get(key, None))\n",
    "\n",
    "\n",
    "print(dicto)"
   ]
  },
  {
   "cell_type": "code",
   "execution_count": 35,
   "metadata": {},
   "outputs": [
    {
     "name": "stdout",
     "output_type": "stream",
     "text": [
      "id had val 2\n",
      "name had val Anton\n",
      "id had val 3\n",
      "id had val 4\n",
      "name had val Balloo\n",
      "{'id': ['2', 3, 4], 'name': ['Anton', 'Balloo']}\n"
     ]
    }
   ],
   "source": []
  }
 ],
 "metadata": {
  "kernelspec": {
   "display_name": "Python 3",
   "language": "python",
   "name": "python3"
  },
  "language_info": {
   "codemirror_mode": {
    "name": "ipython",
    "version": 3
   },
   "file_extension": ".py",
   "mimetype": "text/x-python",
   "name": "python",
   "nbconvert_exporter": "python",
   "pygments_lexer": "ipython3",
   "version": "3.11.5"
  }
 },
 "nbformat": 4,
 "nbformat_minor": 2
}
