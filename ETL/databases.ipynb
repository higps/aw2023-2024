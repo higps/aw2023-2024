{
 "cells": [
  {
   "cell_type": "markdown",
   "metadata": {},
   "source": [
    "# Database exercises:\n",
    "Note: For these exercises, I strongly recommend you to avoid using the interactive window. Use a notebook (`.ipynb`).  \n",
    " \n",
    "1. Create a table `oscar_winners` with the following schema using the psycopg2 package\n",
    "```\n",
    "id serial PRIMARY KEY\n",
    "year integer\n",
    "age integer\n",
    "name varchar\n",
    "movie varchar\n",
    "```\n",
    "2. Download the file `oscar_age_males.csv` from SANA and insert it to the oscar_winners table using DBeaver. (You can do this by right-clicking the table in DBeaver, and selecting import data, then select the file.)\n",
    "Note: Be sure to set the correct delimiter!\n",
    "1.  Create a function `get_youngest_oscar_winner()` that queries the database and returns the name, year, age and movie of the youngest oscar winner. \n",
    "```\n",
    "get_youngest_oscar_winner()\n",
    "[\"Adrien Brody\", 2003, 29, \"The Pianist\"]\n",
    "```\n",
    "\n",
    "2. Create a function `get_winners_by_age(age)` that has age as a parameter, queries the database for all oscar winners that are that age and returns them as a list of lists.\n",
    "```\n",
    "get_winners_by_age(37)\n",
    "[[\"Spencer Tracy\", 1938,37,\"Captains Courageous\"],\n",
    " [\"Sidney Poitier\",\t1964, 37, \"Lilies of the Field\"],\n",
    " [\"Robert De Niro\",1981, 37,\"Raging Bull\"],\n",
    " [\"Tom Hanks\",1994,37, \"Philadelphia\"]\n",
    " [\"Jamie Foxx\",\t2005,\t37,\"Ray\"],\n",
    " ]\n",
    "```\n",
    "\n",
    "3. Create a function `get_winners_by_name(name)` that has name as a paramater and returns all oscar winners in the database that has a name that contains the given name. \n",
    "```\n",
    "get_winners_by_name(\"Robert\")\n",
    "[\"Robert Donat\", \"Cliff Robertson\", \"Robert De Niro\", \"Robert Duvall\", \"Roberto Benigni\"]\n",
    "```\n",
    "\n",
    "4. Create a function `multiple_oscar_winners(num_oscars)` that returns a dict of all oscar winners that has won `num_oscars` or more Oscars.\n",
    "```\n",
    "multiple_oscar_winners(2)\n",
    "{\n",
    " \"Gary Cooper\":\t2\n",
    " \"Jack Nicholson\":\t2\n",
    " \"Spencer Tracy\":\t2\n",
    " \"Sean Penn\":\t2\n",
    " \"Daniel Day-Lewis:\t3\n",
    " \"Dustin Hoffman\":\t2\n",
    " \"Tom Hanks\":\t2\n",
    " \"Fredric March\t2\n",
    " \"Marlon Brando\t2\n",
    "}\n",
    "```\n",
    "\n",
    "5. If you have looked at the data closely, you might notice that the Oscar winners in this list only go to 2016! \n",
    "Create a function `write_oscar_winner(name, age, year, movie)` that writes a new row to the database. \n",
    "Use it to fill in the years 2017-2022 (You can do random names and movies if you don't feel like looking up who won the last six years ;))\n",
    "\n",
    "6. You might also have noticed that this is only the best male actors that have won an Oscar.\n",
    "Download the file `female_oscar_winners.csv`, but this time you are not allowed to use the DBEaver import function to insert them to the database! Use the `csv` library together with the necessary functions you created in the tasks above.\n",
    "\n",
    "7. Congrats! You made it to the end. (Almost). Can you plug the functionality you just created into an api? For instance, try to create an API endpoint per function you created above. (For the `write_oscar_winner` function you will need to do a POST request) "
   ]
  },
  {
   "cell_type": "code",
   "execution_count": 17,
   "metadata": {},
   "outputs": [],
   "source": [
    "import psycopg2\n",
    "from psycopg2 import sql"
   ]
  },
  {
   "cell_type": "code",
   "execution_count": 18,
   "metadata": {},
   "outputs": [],
   "source": [
    "\n",
    "\n",
    "host = 'summer22data.postgres.database.azure.com'\n",
    "user = 'student_marius'\n",
    "password = 'marius'\n",
    "dbname = 'daily_marius'"
   ]
  },
  {
   "cell_type": "code",
   "execution_count": 19,
   "metadata": {},
   "outputs": [
    {
     "name": "stdout",
     "output_type": "stream",
     "text": [
      "Connection established\n"
     ]
    }
   ],
   "source": [
    "conn_string = f\"host={host} user={user} dbname={dbname} password={password}\"\n",
    "conn = psycopg2.connect(conn_string)\n",
    "print(\"Connection established\")"
   ]
  },
  {
   "cell_type": "code",
   "execution_count": 20,
   "metadata": {},
   "outputs": [],
   "source": [
    "# # See https://www.psycopg.org/docs/usage.html for usage of psycopg2\n",
    "# # Open a cursor to the database - remember to close this after you have done everything!\n",
    "\n",
    "# cur = conn.cursor()\n",
    "# # If something goes wrong (you get transactionerror)- use the command below\n",
    "# cur.execute(\"rollback\") "
   ]
  },
  {
   "cell_type": "code",
   "execution_count": 21,
   "metadata": {},
   "outputs": [
    {
     "name": "stdout",
     "output_type": "stream",
     "text": [
      "(1, datetime.date(1989, 1, 31), 'Reodor', 'Felgen')\n",
      "(2, datetime.date(1956, 2, 2), 'Mysil', 'Bergsprekken')\n",
      "(3, datetime.date(1997, 5, 1), 'Rudolf', 'Blodstrupmoen')\n",
      "(4, datetime.date(1995, 7, 2), 'Åsmund', 'Brekke')\n",
      "(5, datetime.date(1988, 4, 11), 'Marius', 'Dyrseth')\n"
     ]
    }
   ],
   "source": [
    "cur = conn.cursor()\n",
    "cur.execute(\"rollback\") \n",
    "cur.execute(\"SELECT * FROM person;\")\n",
    "\n",
    "for row in cur:\n",
    "    print(row)\n",
    "\n",
    "\n",
    "cur.close()"
   ]
  },
  {
   "cell_type": "code",
   "execution_count": null,
   "metadata": {},
   "outputs": [],
   "source": []
  },
  {
   "cell_type": "code",
   "execution_count": 33,
   "metadata": {},
   "outputs": [
    {
     "name": "stdout",
     "output_type": "stream",
     "text": [
      "List of tables:\n",
      "('swapi_starships',)\n"
     ]
    }
   ],
   "source": []
  }
 ],
 "metadata": {
  "kernelspec": {
   "display_name": "Python 3",
   "language": "python",
   "name": "python3"
  },
  "language_info": {
   "codemirror_mode": {
    "name": "ipython",
    "version": 3
   },
   "file_extension": ".py",
   "mimetype": "text/x-python",
   "name": "python",
   "nbconvert_exporter": "python",
   "pygments_lexer": "ipython3",
   "version": "3.11.5"
  }
 },
 "nbformat": 4,
 "nbformat_minor": 2
}
