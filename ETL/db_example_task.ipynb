{
 "cells": [
  {
   "cell_type": "code",
   "execution_count": 1,
   "metadata": {},
   "outputs": [],
   "source": [
    "import psycopg2"
   ]
  },
  {
   "cell_type": "markdown",
   "metadata": {},
   "source": []
  },
  {
   "cell_type": "code",
   "execution_count": 2,
   "metadata": {},
   "outputs": [],
   "source": [
    "host = 'summer22data.postgres.database.azure.com'\n",
    "user = 'student_marius'\n",
    "password = 'marius'\n",
    "db_port = 5432\n",
    "dbname = 'daily_marius'\n",
    "\n"
   ]
  },
  {
   "cell_type": "code",
   "execution_count": 3,
   "metadata": {},
   "outputs": [
    {
     "name": "stdout",
     "output_type": "stream",
     "text": [
      "Connection established\n"
     ]
    }
   ],
   "source": [
    "conn_string = f\"host={host} user={user} dbname={dbname} password={password}\"\n",
    "conn = psycopg2.connect(conn_string)\n",
    "print(\"Connection established\")"
   ]
  },
  {
   "cell_type": "code",
   "execution_count": null,
   "metadata": {},
   "outputs": [],
   "source": [
    "# See https://www.psycopg.org/docs/usage.html for usage of psycopg2\n",
    "# Open a cursor to the database - remember to close this after you have done everything!\n",
    "\n",
    "cur = conn.cursor()\n",
    "# If something goes wrong (you get transactionerror)- use the command below\n",
    "cur.execute(\"rollback\") "
   ]
  },
  {
   "cell_type": "code",
   "execution_count": 4,
   "metadata": {},
   "outputs": [],
   "source": [
    "# CREATE TABLE USER\n",
    "cur = conn.cursor()\n",
    "cur.execute(\"DROP TABLE IF EXISTS person cascade;\")\n",
    "cur.execute(\"CREATE TABLE person (id serial PRIMARY KEY, birthdate DATE, first_name varchar, last_name varchar);\")\n",
    "conn.commit()\n",
    "cur.close()"
   ]
  },
  {
   "cell_type": "code",
   "execution_count": 5,
   "metadata": {},
   "outputs": [],
   "source": [
    "# POPULATE TABLE USER MULTIPLE ROWS\n",
    "from psycopg2.extras import execute_values\n",
    "cur = conn.cursor()\n",
    "execute_values(cur,\n",
    "    \"INSERT INTO person (birthdate, first_name, last_name) VALUES %s\",\n",
    "    [(\"1989-01-31\", \"Reodor\", \"Felgen\"), (\"1956-02-02\", \"Mysil\", \"Bergsprekken\"), (\"1997-05-01\", \"Rudolf\", \"Blodstrupmoen\")])\n",
    "conn.commit()\n",
    "cur.close()"
   ]
  },
  {
   "cell_type": "code",
   "execution_count": 6,
   "metadata": {},
   "outputs": [],
   "source": [
    "# POPULATE SINGLE ROW\n",
    "cur = conn.cursor()\n",
    "cur.execute(\"INSERT INTO person (birthdate, first_name, last_name) VALUES (%s, %s, %s)\", [\"1995-07-02\", \"Åsmund\", \"Brekke\"])\n",
    "conn.commit()\n",
    "cur.close()"
   ]
  },
  {
   "cell_type": "code",
   "execution_count": 7,
   "metadata": {},
   "outputs": [
    {
     "name": "stdout",
     "output_type": "stream",
     "text": [
      "(1, datetime.date(1989, 1, 31), 'Reodor', 'Felgen')\n",
      "(2, datetime.date(1956, 2, 2), 'Mysil', 'Bergsprekken')\n",
      "(3, datetime.date(1997, 5, 1), 'Rudolf', 'Blodstrupmoen')\n",
      "(4, datetime.date(1995, 7, 2), 'Åsmund', 'Brekke')\n"
     ]
    }
   ],
   "source": [
    "# SELECT FROM TABLE USER\n",
    "cur = conn.cursor()\n",
    "cur.execute(\"rollback\") \n",
    "cur.execute(\"SELECT * FROM person;\")\n",
    "\n",
    "for row in cur:\n",
    "    print(row)\n",
    "\n",
    "cur.close()"
   ]
  },
  {
   "cell_type": "markdown",
   "metadata": {},
   "source": [
    "## Exercises:\n",
    "1) Write a function that asks the user for name and birthdate, and writes them to the database.\n",
    "\n",
    "`Hint: You can use the python input() function to ask a user to enter info`\n"
   ]
  },
  {
   "cell_type": "code",
   "execution_count": 8,
   "metadata": {},
   "outputs": [],
   "source": [
    "# Code\n",
    "first_name = \"Marius\"\n",
    "last_name = \"Dyrseth\"\n",
    "birth_date = \"1988-04-11\"\n",
    "\n",
    "cur = conn.cursor()\n",
    "cur.execute(\"INSERT INTO person (birthdate, first_name, last_name) VALUES (%s, %s, %s)\", [birth_date, first_name, last_name])\n",
    "conn.commit()\n",
    "cur.close()"
   ]
  },
  {
   "cell_type": "code",
   "execution_count": 3,
   "metadata": {},
   "outputs": [
    {
     "name": "stdout",
     "output_type": "stream",
     "text": [
      "\n"
     ]
    }
   ],
   "source": [
    "def user_input():\n",
    "    input1 = input(\"teskst1\")\n",
    "    input2 = input(\"teskst2\")\n",
    "\n",
    "    return [input1, input2]"
   ]
  },
  {
   "cell_type": "markdown",
   "metadata": {},
   "source": [
    "## 2) Write a function that asks the user for a birthdate, and returns every person in the database that has the exact same birthdate (same year, month and day). \n"
   ]
  },
  {
   "cell_type": "code",
   "execution_count": 10,
   "metadata": {},
   "outputs": [
    {
     "name": "stdout",
     "output_type": "stream",
     "text": [
      "('Marius', 'Dyrseth')\n"
     ]
    }
   ],
   "source": [
    "cur = conn.cursor()\n",
    "cur.execute(f\"SELECT first_name, last_name from person WHERE birthdate = '{birth_date}';\")\n",
    "for row in cur:\n",
    "    print(row)\n",
    "cur.close()\n",
    "\n"
   ]
  },
  {
   "cell_type": "markdown",
   "metadata": {},
   "source": [
    "# 3) Using the same input as 2), create a function that returns a count of how many persons that have the same birthday (same month and day).\n",
    "# Hint: The DATE_PART SQL function might be useful here "
   ]
  },
  {
   "cell_type": "code",
   "execution_count": 21,
   "metadata": {},
   "outputs": [
    {
     "name": "stdout",
     "output_type": "stream",
     "text": [
      "<cursor object at 0x000001F5C535DA80; closed: 0>\n",
      "(1,)\n"
     ]
    }
   ],
   "source": [
    "cur = conn.cursor()\n",
    "cur.execute(\"rollback\") \n",
    "cur.execute(f\"SELECT COUNT(id) from person WHERE birthdate = '{birth_date}';\")\n",
    "for row in cur:\n",
    "    print(row)\n",
    "cur.close()\n"
   ]
  }
 ],
 "metadata": {
  "kernelspec": {
   "display_name": "Python 3.10.11 ('ETL-Intro': virtualenv)",
   "language": "python",
   "name": "python3"
  },
  "language_info": {
   "codemirror_mode": {
    "name": "ipython",
    "version": 3
   },
   "file_extension": ".py",
   "mimetype": "text/x-python",
   "name": "python",
   "nbconvert_exporter": "python",
   "pygments_lexer": "ipython3",
   "version": "3.11.5"
  },
  "orig_nbformat": 4,
  "vscode": {
   "interpreter": {
    "hash": "82977c953602e7da63a446607251b2b8bb7069830b9c237c45f054088740cd20"
   }
  }
 },
 "nbformat": 4,
 "nbformat_minor": 2
}
