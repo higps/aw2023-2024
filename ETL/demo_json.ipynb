{
 "cells": [
  {
   "cell_type": "code",
   "execution_count": 1,
   "metadata": {},
   "outputs": [],
   "source": [
    "import json\n",
    "from datetime import date"
   ]
  },
  {
   "cell_type": "code",
   "execution_count": 2,
   "metadata": {},
   "outputs": [],
   "source": [
    "pupil = {\n",
    "    \"name\": \"Test testesen\",\n",
    "    \"grade\": 5,\n",
    "    \"address\": {\n",
    "        \"city\": \"Oslo\",\n",
    "        \"zipcode\": \"0366\",\n",
    "        \"street_name\": \"Bogstadveien\",\n",
    "        \"street_number\": \"75A\"\n",
    "    },\n",
    "    \"subject\": [\"ETL Intro\", \"Python\", \"Machine Learning\"],\n",
    "    \"birthdate\": date(1979, 2, 6).strftime(\"%Y-%m-%d\"), # 1979-02-06\n",
    "}"
   ]
  },
  {
   "cell_type": "code",
   "execution_count": 3,
   "metadata": {},
   "outputs": [],
   "source": [
    "# Two methods of writing to file\n",
    "# json.dump and json.dumps \n",
    "#json.dump() # Requires an object and a file, writes to file \n",
    "#json.dumps() # Requires an object, returns a string\n",
    "\n",
    "with open(\"pupil_out.json\", \"w\") as fp:\n",
    "    json.dump(pupil, fp)\n"
   ]
  },
  {
   "cell_type": "code",
   "execution_count": 7,
   "metadata": {},
   "outputs": [],
   "source": [
    "pupils = [\n",
    "{\n",
    "    \"name\": \"Test testesen\",\n",
    "    \"grade\": 5,\n",
    "    \"address\": {\n",
    "        \"city\": \"Oslo\",\n",
    "        \"zipcode\": \"0366\",\n",
    "        \"street_name\": \"Bogstadveien\",\n",
    "        \"street_number\": \"75A\"\n",
    "    },\n",
    "    \"subject\": [\"ETL Intro\", \"Python\", \"Machine Learning\"],\n",
    "    \"birthdate\": date(1979, 2, 6).strftime(\"%Y-%m-%d\"), # 1979-02-06\n",
    "}, \n",
    "{\n",
    "    \"name\": \"Slask slaskesen\",\n",
    "    \"grade\": 2,\n",
    "    \"address\": {\n",
    "        \"city\": \"Oslo\",\n",
    "        \"zipcode\": \"0570\",\n",
    "        \"street_name\": \"Camilla Collets Gt.\",\n",
    "        \"street_number\": \"19C\"\n",
    "    },\n",
    "    \"subject\": [\"SQL Intro\", \"Java\"],\n",
    "    \"birthdate\": date(1998, 10, 5).strftime(\"%Y-%m-%d\"), # 1998-10-05\n",
    "}\n",
    "]"
   ]
  },
  {
   "cell_type": "code",
   "execution_count": 8,
   "metadata": {},
   "outputs": [],
   "source": [
    "with open(\"pupils.json\", \"w\") as fp:\n",
    "    json.dump(pupils, fp)"
   ]
  },
  {
   "cell_type": "code",
   "execution_count": 9,
   "metadata": {},
   "outputs": [
    {
     "data": {
      "text/plain": [
       "'0366'"
      ]
     },
     "execution_count": 9,
     "metadata": {},
     "output_type": "execute_result"
    }
   ],
   "source": [
    "pupil[\"address\"][\"zipcode\"]\n",
    "pupils[0][\"address\"][\"zipcode\"]\n"
   ]
  },
  {
   "cell_type": "code",
   "execution_count": 10,
   "metadata": {},
   "outputs": [
    {
     "data": {
      "text/plain": [
       "'Java'"
      ]
     },
     "execution_count": 10,
     "metadata": {},
     "output_type": "execute_result"
    }
   ],
   "source": [
    "pupils[-1][\"subject\"][-1]"
   ]
  },
  {
   "cell_type": "code",
   "execution_count": 11,
   "metadata": {},
   "outputs": [
    {
     "name": "stdout",
     "output_type": "stream",
     "text": [
      "First:  Test\n",
      "Last:  testesen\n",
      "First:  Slask\n",
      "Last:  slaskesen\n"
     ]
    }
   ],
   "source": [
    "for pupil_dict in pupils:\n",
    "    full_name = pupil_dict[\"name\"]\n",
    "    first_name, last_name = full_name.split(\" \")\n",
    "    print(\"First: \", first_name)\n",
    "    print(\"Last: \", last_name)"
   ]
  },
  {
   "cell_type": "code",
   "execution_count": 12,
   "metadata": {},
   "outputs": [
    {
     "name": "stdout",
     "output_type": "stream",
     "text": [
      "<class 'dict'>\n",
      "{'name': 'Test testesen', 'grade': 5, 'address': {'city': 'Oslo', 'zipcode': '0366', 'street_name': 'Bogstadveien', 'street_number': '75A'}, 'subject': ['ETL Intro', 'Python', 'Machine Learning'], 'birthdate': '1979-02-06'}\n"
     ]
    }
   ],
   "source": [
    "# \n",
    "# json.load() # fp as a parameter\n",
    "#json.loads() # string as parameter\n",
    "with open(\"pupil_out.json\", \"r\") as fp:\n",
    "    jsonstring = fp.read()\n",
    "    res = json.loads(jsonstring)\n",
    "    print(type(res))\n",
    "    print(res)\n"
   ]
  },
  {
   "cell_type": "code",
   "execution_count": null,
   "metadata": {},
   "outputs": [],
   "source": [
    "with open(\"pupil_out.json\", \"r\") as fp:\n",
    "    res = json.load(fp)\n",
    "    print(type(res))\n",
    "    print(res)"
   ]
  },
  {
   "cell_type": "code",
   "execution_count": null,
   "metadata": {},
   "outputs": [],
   "source": [
    "# If we have a corrupt json file we will get JSONDecodeError\n",
    "with open(\"pupils_error.json\", \"r\") as fp:\n",
    "    res = json.load(fp)\n",
    "    print(type(res))\n",
    "    print(res)"
   ]
  }
 ],
 "metadata": {
  "kernelspec": {
   "display_name": "Python 3.10.9 64-bit",
   "language": "python",
   "name": "python3"
  },
  "language_info": {
   "codemirror_mode": {
    "name": "ipython",
    "version": 3
   },
   "file_extension": ".py",
   "mimetype": "text/x-python",
   "name": "python",
   "nbconvert_exporter": "python",
   "pygments_lexer": "ipython3",
   "version": "3.10.9"
  },
  "orig_nbformat": 4,
  "vscode": {
   "interpreter": {
    "hash": "b0fa6594d8f4cbf19f97940f81e996739fb7646882a419484c72d19e05852a7e"
   }
  }
 },
 "nbformat": 4,
 "nbformat_minor": 2
}
