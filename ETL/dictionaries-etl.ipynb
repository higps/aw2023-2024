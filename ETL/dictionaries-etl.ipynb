{
 "cells": [
  {
   "cell_type": "markdown",
   "metadata": {},
   "source": [
    "# Dictionaries\n",
    "\n",
    "### Øvingsoppgaver i ETL"
   ]
  },
  {
   "cell_type": "markdown",
   "metadata": {},
   "source": [
    "### Del 1 - Grunnleggende Skriving"
   ]
  },
  {
   "cell_type": "code",
   "execution_count": 132,
   "metadata": {},
   "outputs": [],
   "source": [
    "# Opprett en tom dictionary - du skal bruke denne gjennom oppgaven\n",
    "\n",
    "idict = {}"
   ]
  },
  {
   "cell_type": "code",
   "execution_count": 133,
   "metadata": {},
   "outputs": [],
   "source": [
    "# Legg til \"England\" : \"London\" som key og value i din dictionary\n",
    "\n",
    "idict[\"England\"] = 'London'"
   ]
  },
  {
   "cell_type": "code",
   "execution_count": 134,
   "metadata": {},
   "outputs": [],
   "source": [
    "keys = [\"Norway\", \"Sweden\", \"Denmark\", \"Finland\"]\n",
    "values = [\"Oslo\", \"Stockholm\", \"Copenhagen\", \"Helsinki\"]"
   ]
  },
  {
   "cell_type": "code",
   "execution_count": 135,
   "metadata": {},
   "outputs": [],
   "source": [
    "# Skriv en funksjon som tar inn to lister (keys, values) og legger dem til i dictionary\n",
    "# BONUS: Skriv en test (assert()) som sjekker at listene er lik lengde. Hvis testen feiler skal det printes \"Lists are unequal length\"\n",
    "\n",
    "\n",
    "assert len(keys) == len(values), \"Lists are unequal length\"\n",
    "\n",
    "idict.update(dict(zip(keys, values)))\n",
    "\n",
    "\n",
    "    "
   ]
  },
  {
   "cell_type": "code",
   "execution_count": 136,
   "metadata": {},
   "outputs": [],
   "source": [
    "# Opprett en ny tom dictionary\n",
    "\n",
    "udict = {}"
   ]
  },
  {
   "cell_type": "code",
   "execution_count": 137,
   "metadata": {},
   "outputs": [],
   "source": [
    "# Skriv to nye lister med 4 valgfrie land og hovedsteder og tilegn disse til en ny dictionary\n",
    "\n",
    "countries = [\"Japan\", \"Brazil\", \"Nigeria\", \"Australia\"]\n",
    "capitals = [\"Tokyo\", \"Brasília\", \"Abuja\", \"Canberra\"]\n",
    "\n",
    "assert len(keys) == len(values), \"Lists are unequal length\"\n",
    "\n",
    "udict.update(dict(zip(countries, capitals)))"
   ]
  },
  {
   "cell_type": "code",
   "execution_count": 138,
   "metadata": {},
   "outputs": [],
   "source": [
    "# Skriv en funksjon som tar inn to dictionaries og merger dem\n",
    "\n",
    "def merge_dicts(dict1, dict2):\n",
    "    merged_dict = {}\n",
    "    merged_dict.update(dict1)\n",
    "    merged_dict.update(dict2)\n",
    "    return merged_dict"
   ]
  },
  {
   "cell_type": "code",
   "execution_count": 139,
   "metadata": {},
   "outputs": [],
   "source": [
    "# Merge dem\n",
    "merged_dict = merge_dicts(idict,udict)\n"
   ]
  },
  {
   "cell_type": "markdown",
   "metadata": {},
   "source": [
    "### Del 2 - Grunnleggende Lesing"
   ]
  },
  {
   "cell_type": "code",
   "execution_count": 140,
   "metadata": {},
   "outputs": [],
   "source": [
    "# Oppgave 1\n",
    "\n",
    "dict_one = {\n",
    "    \"class\": {\n",
    "        \"student\": {\n",
    "            \"name\": \"Mike\",\n",
    "            \"marks\": {\n",
    "                \"physics\": 70,\n",
    "                \"history\": 80\n",
    "            }\n",
    "        }\n",
    "    }\n",
    "}"
   ]
  },
  {
   "cell_type": "code",
   "execution_count": 141,
   "metadata": {},
   "outputs": [
    {
     "data": {
      "text/plain": [
       "80"
      ]
     },
     "execution_count": 141,
     "metadata": {},
     "output_type": "execute_result"
    }
   ],
   "source": [
    "# Les ut value til \"history\" i dict_one\n",
    "dict_one[\"class\"][\"student\"][\"marks\"][\"history\"]\n",
    "\n",
    "history_marks = dict_one.get(\"class\").get(\"student\").get(\"marks\").get(\"history\")\n",
    "history_marks\n"
   ]
  },
  {
   "cell_type": "code",
   "execution_count": 142,
   "metadata": {},
   "outputs": [],
   "source": [
    "# Oppgave 2\n",
    "\n",
    "dict_two = {\n",
    "    \"name\": \"Kelly\",\n",
    "    \"age\": 25,\n",
    "    \"salary\": 8000,\n",
    "    \"city\": \"New york\"}\n",
    "\n",
    "# Keys to extract\n",
    "keys = [\"name\", \"salary\"]"
   ]
  },
  {
   "cell_type": "code",
   "execution_count": 143,
   "metadata": {},
   "outputs": [
    {
     "data": {
      "text/plain": [
       "{'name': 'Kelly', 'salary': 8000}"
      ]
     },
     "execution_count": 143,
     "metadata": {},
     "output_type": "execute_result"
    }
   ],
   "source": [
    "# Skriv en funksjon som oppretter en ny dictionary og populerer den med \"name\" og \"salary\"\n",
    "\n",
    "def create_new_dict(keys):\n",
    "    result = {key: dict_two[key] for key in keys}\n",
    "    return result\n",
    "\n",
    "\n",
    "create_new_dict(keys)"
   ]
  },
  {
   "cell_type": "code",
   "execution_count": 144,
   "metadata": {},
   "outputs": [],
   "source": [
    "# Oppgave 3\n",
    "# Bruk dict_two"
   ]
  },
  {
   "cell_type": "code",
   "execution_count": 145,
   "metadata": {},
   "outputs": [],
   "source": [
    "# Endre key \"city\" til \"location\" i dict_two\n",
    "\n",
    "dict_two[\"location\"] = dict_two.pop(\"city\")"
   ]
  },
  {
   "cell_type": "markdown",
   "metadata": {},
   "source": [
    "### Del 3 - Endring"
   ]
  },
  {
   "cell_type": "code",
   "execution_count": 146,
   "metadata": {},
   "outputs": [],
   "source": [
    "# Oppgave 4\n",
    "dict_four = {\n",
    "    'emp1': {'name': 'Jhon', 'salary': 7500},\n",
    "    'emp2': {'name': 'Emma', 'salary': 8000},\n",
    "    'emp3': {'name': 'Brad', 'salary': 500}\n",
    "}"
   ]
  },
  {
   "cell_type": "code",
   "execution_count": 147,
   "metadata": {},
   "outputs": [],
   "source": [
    "# Det er nyttår og alle ansatte går opp 2.5% i lønn. Juster lønna til alle ansatte.\n",
    "\n",
    "for emps in dict_four:\n",
    "    dict_four[emps][\"salary\"] *= 1.025\n",
    "    \n",
    "# for emps in dict_four:\n",
    "#     print(dict_four[emps][\"salary\"])"
   ]
  },
  {
   "cell_type": "code",
   "execution_count": 148,
   "metadata": {},
   "outputs": [],
   "source": [
    "# Oppgave 5\n",
    "# Bruk dict_four"
   ]
  },
  {
   "cell_type": "code",
   "execution_count": 149,
   "metadata": {},
   "outputs": [
    {
     "data": {
      "text/plain": [
       "5466.666666666666"
      ]
     },
     "execution_count": 149,
     "metadata": {},
     "output_type": "execute_result"
    }
   ],
   "source": [
    "# Finn gjennomsnittslønna\n",
    "import statistics\n",
    "\n",
    "avglist = []\n",
    "for emps in dict_four:\n",
    "    avglist.append(dict_four[emps][\"salary\"])\n",
    "\n",
    "average = statistics.mean(avglist)\n",
    "\n",
    "average"
   ]
  },
  {
   "cell_type": "markdown",
   "metadata": {},
   "source": [
    "### Del 4 - JSON"
   ]
  },
  {
   "cell_type": "code",
   "execution_count": 150,
   "metadata": {},
   "outputs": [],
   "source": [
    "import json"
   ]
  },
  {
   "cell_type": "code",
   "execution_count": 151,
   "metadata": {},
   "outputs": [
    {
     "data": {
      "text/plain": [
       "{'orders': [{'size': 'medium',\n",
       "   'price': 15.67,\n",
       "   'toppings': ['mushrooms', 'pepperoni', 'basil'],\n",
       "   'extra_cheese': False,\n",
       "   'delivery': True,\n",
       "   'client': {'name': 'Jane Doe',\n",
       "    'phone': None,\n",
       "    'email': 'janedoe@email.com'}},\n",
       "  {'size': 'small',\n",
       "   'price': 6.54,\n",
       "   'toppings': None,\n",
       "   'extra_cheese': True,\n",
       "   'delivery': False,\n",
       "   'client': {'name': 'Foo Jones', 'phone': '556-342-452', 'email': None}}]}"
      ]
     },
     "execution_count": 151,
     "metadata": {},
     "output_type": "execute_result"
    }
   ],
   "source": [
    "# Oppgave 6\n",
    "# Les inn fila \"orders.json\" ved å bruke Python sitt json bibliotek\n",
    "\n",
    "file_name = 'orders.json'\n",
    "\n",
    "# Open and read the JSON file\n",
    "with open(file_name, 'r') as file:\n",
    "    # Load the JSON data\n",
    "    data = json.load(file)\n",
    "\n",
    "data"
   ]
  },
  {
   "cell_type": "code",
   "execution_count": 152,
   "metadata": {},
   "outputs": [
    {
     "name": "stdout",
     "output_type": "stream",
     "text": [
      "{'orders': [{'size': 'medium', 'price': 15.67, 'toppings': ['mushrooms', 'pepperoni', 'basil'], 'extra_cheese': False, 'delivery': True, 'client': {'name': 'Jane Doe', 'phone': None, 'email': 'janedoe@email.com'}}, {'size': 'small', 'price': 6.54, 'toppings': None, 'extra_cheese': True, 'delivery': False, 'client': {'name': 'Foo Jones', 'phone': '556-342-452', 'email': None}}]}\n",
      "==========\n",
      "{'orders': [{'size': 'medium', 'price': 15.67, 'toppings': ['mushrooms', 'pepperoni', 'basil'], 'extra_cheese': False, 'delivery': True, 'name': 'Jane Doe', 'phone': None, 'email': 'janedoe@email.com'}, {'size': 'small', 'price': 6.54, 'toppings': None, 'extra_cheese': True, 'delivery': False, 'name': 'Foo Jones', 'phone': '556-342-452', 'email': None}]}\n"
     ]
    }
   ],
   "source": [
    "# Oppgave 7\n",
    "# Vi ønsker en \"flat\" struktur i JSON objektet vårt.\n",
    "# Flat ut objektet \"client\" og skriv hele JSON objektet til en ny fil \"orders_flat.json\"\n",
    "\n",
    "\n",
    "new_dict = {\"orders\":[]}\n",
    "\n",
    "print(data)\n",
    "print(\"=\"*10)\n",
    "\n",
    "for orders in data[\"orders\"]:\n",
    "    orders.update(orders.pop(\"client\"))\n",
    "\n",
    "print(data)\n",
    "\n",
    "with open(\"orders_no_client.json\", 'w') as file:\n",
    "    json.dump(data, file)\n",
    "\n"
   ]
  },
  {
   "cell_type": "code",
   "execution_count": 153,
   "metadata": {},
   "outputs": [],
   "source": [
    "# Oppgave 8\n",
    "# Skriv en funksjon som legger til nye ordre i orders-fila"
   ]
  },
  {
   "cell_type": "code",
   "execution_count": null,
   "metadata": {},
   "outputs": [],
   "source": []
  }
 ],
 "metadata": {
  "kernelspec": {
   "display_name": "Python 3.10.9 ('venv': venv)",
   "language": "python",
   "name": "python3"
  },
  "language_info": {
   "codemirror_mode": {
    "name": "ipython",
    "version": 3
   },
   "file_extension": ".py",
   "mimetype": "text/x-python",
   "name": "python",
   "nbconvert_exporter": "python",
   "pygments_lexer": "ipython3",
   "version": "3.11.5"
  },
  "orig_nbformat": 4,
  "vscode": {
   "interpreter": {
    "hash": "af67e1a53b35581a4e4086878bbdb3d9480c4d8344163729bdf591e18f8167ea"
   }
  }
 },
 "nbformat": 4,
 "nbformat_minor": 2
}
