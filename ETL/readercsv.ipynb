{
 "cells": [
  {
   "cell_type": "code",
   "execution_count": 170,
   "metadata": {},
   "outputs": [],
   "source": [
    "import csv"
   ]
  },
  {
   "cell_type": "code",
   "execution_count": 171,
   "metadata": {},
   "outputs": [],
   "source": [
    "filename = 'navn_kulhet.csv'"
   ]
  },
  {
   "cell_type": "code",
   "execution_count": 172,
   "metadata": {},
   "outputs": [],
   "source": [
    "        # for index, (key, value) in enumerate(my_dict.items(), start=1):\n",
    "        # for index, value in enumerate(reader_dict, start=1):\n",
    "            # if (n_lines == 0):\n",
    "                # print(value['fornavn'], value['etternavn'], value['kulhet'], value['tlf'])\n",
    "            # elif (n_lines >= index):\n",
    "                # print(value['fornavn'], value['etternavn'], value['kulhet'], value['tlf'])\n",
    "            "
   ]
  },
  {
   "cell_type": "code",
   "execution_count": 192,
   "metadata": {},
   "outputs": [],
   "source": [
    "# 3. Add a new parameter to the function read_csv named filename_out. If filename_out\n",
    "# is not None, the function should write each line to the file specified by filename_out\n",
    "# instead of printing it.\n",
    "# Example: read_csv(filename=“test.csv”, n_lines=10, filename_out=“out.csv”) should\n",
    "# write the 10 first lines of test.csv to the file out.csv\n",
    "# read_csv(filename=“test.csv”, n_lines=10, filename_out=None) should print the first\n",
    "# 10 lines.\n",
    "out_filename = 'out.csv'\n",
    "def read_csv(filename, filename_out=out_filename, n_lines = 0):\n",
    "    with open(filename) as csvfile_dict:\n",
    "\n",
    "\n",
    "        reader_dict = csv.DictReader(csvfile_dict, fieldnames=['fornavn', 'etternavn', 'tlf', 'kulhet'])\n",
    "         \n",
    "        \n",
    "        with open(out_filename, 'w', newline='') as csvfile:\n",
    "            fieldnames = ['fornavn', 'etternavn','kulhet']\n",
    "            writer = csv.DictWriter(csvfile, fieldnames=fieldnames)\n",
    "\n",
    "            lines_written = -1\n",
    "            # writer.writeheader()\n",
    "            for dicts in reader_dict:\n",
    "                    # writer.writerow((dicts[i]for i in fieldnames))\n",
    "                    selected_data = {i: dicts[i] for i in fieldnames}\n",
    "                    # Write the selected fields to the new file\n",
    "                    writer.writerow(selected_data)\n",
    "                    # writer.writerow(value['fornavn', 'etternavn','kulhet'])\n",
    "                                    # Increment the counter\n",
    "                    lines_written += 1\n",
    "                    \n",
    "                    # Check if the specified number of lines is reached\n",
    "                    if n_lines > 0 and lines_written >= n_lines:\n",
    "                        break\n",
    "\n",
    "            \n"
   ]
  },
  {
   "cell_type": "code",
   "execution_count": 193,
   "metadata": {},
   "outputs": [],
   "source": [
    "read_csv(filename, n_lines=3)"
   ]
  },
  {
   "cell_type": "code",
   "execution_count": null,
   "metadata": {},
   "outputs": [],
   "source": []
  },
  {
   "cell_type": "code",
   "execution_count": 175,
   "metadata": {},
   "outputs": [
    {
     "name": "stdout",
     "output_type": "stream",
     "text": [
      "Bubbles, Fluffypants, 98765432, 10\n",
      "Captain, Sparklebeard, 12345678, 9\n",
      "Professor, Bananahat, 56789012, 2\n",
      "Squiggles, McGiggles, 13579246, 7\n",
      "Fluffy, Pancakepants, 24680135, 3\n",
      "Cheeseball, Snickerdoodle, 98761234, 10\n",
      "Snugglepuff, Twinkletoes, 87654321, 9\n",
      "Whiskerfritz, Bubblegum, 23456789, 2\n",
      "Jellybean, Sweetcheeks, 34567890, 7\n",
      "Wiggles, Noodlehead, 67890123, 3\n"
     ]
    }
   ],
   "source": [
    "with open('navn_kulhet_no_header.csv') as csvfile:\n",
    "    reader = csv.reader(csvfile)\n",
    "    for row in reader:\n",
    "        print(', '.join(row))"
   ]
  },
  {
   "cell_type": "code",
   "execution_count": 176,
   "metadata": {},
   "outputs": [
    {
     "ename": "KeyError",
     "evalue": "'firstname'",
     "output_type": "error",
     "traceback": [
      "\u001b[1;31m---------------------------------------------------------------------------\u001b[0m",
      "\u001b[1;31mKeyError\u001b[0m                                  Traceback (most recent call last)",
      "Cell \u001b[1;32mIn[176], line 4\u001b[0m\n\u001b[0;32m      2\u001b[0m reader_dict \u001b[38;5;241m=\u001b[39m csv\u001b[38;5;241m.\u001b[39mDictReader(csvfile_dict)\n\u001b[0;32m      3\u001b[0m \u001b[38;5;28;01mfor\u001b[39;00m row \u001b[38;5;129;01min\u001b[39;00m reader_dict:\n\u001b[1;32m----> 4\u001b[0m     \u001b[38;5;28mprint\u001b[39m(\u001b[43mrow\u001b[49m\u001b[43m[\u001b[49m\u001b[38;5;124;43m'\u001b[39;49m\u001b[38;5;124;43mfirstname\u001b[39;49m\u001b[38;5;124;43m'\u001b[39;49m\u001b[43m]\u001b[49m, row[\u001b[38;5;124m'\u001b[39m\u001b[38;5;124mlastname\u001b[39m\u001b[38;5;124m'\u001b[39m], row[\u001b[38;5;124m'\u001b[39m\u001b[38;5;124mcoolnessfactor\u001b[39m\u001b[38;5;124m'\u001b[39m])\n",
      "\u001b[1;31mKeyError\u001b[0m: 'firstname'"
     ]
    }
   ],
   "source": [
    "with open('navn_kulhet.csv') as csvfile_dict:\n",
    "    reader_dict = csv.DictReader(csvfile_dict)\n",
    "    for row in reader_dict:\n",
    "        print(row['firstname'], row['lastname'], row['coolnessfactor'])"
   ]
  },
  {
   "cell_type": "code",
   "execution_count": null,
   "metadata": {},
   "outputs": [],
   "source": [
    "# No header dict\n",
    "with open('navn_kulhet_no_header.csv') as csvfile_dict:\n",
    "    reader_dict = csv.DictReader(csvfile_dict, fieldnames=['fornavn', 'etternavn', 'tlf', 'kulhetsfaktor'])\n",
    "    for row in reader_dict:\n",
    "        print(row['fornavn'], row['etternavn'], row['kulhetsfaktor'], row['tlf'])"
   ]
  },
  {
   "cell_type": "code",
   "execution_count": null,
   "metadata": {},
   "outputs": [],
   "source": [
    "# No header dict, with counter for n_lines\n",
    "with open('navn_kulhet_no_header.csv') as csvfile_dict:\n",
    "    reader_dict = csv.DictReader(csvfile_dict, fieldnames=['fornavn', 'etternavn', 'tlf', 'kulhetsfaktor'])\n",
    "    n_lines = 2\n",
    "    row_num = 1\n",
    "    for row in reader_dict:\n",
    "        if n_lines == 0:\n",
    "            print(row['fornavn'], row['etternavn'], row['kulhetsfaktor'], row['tlf'])\n",
    "        elif n_lines >= row_num:\n",
    "            print(row['fornavn'], row['etternavn'], row['kulhetsfaktor'], row['tlf'])\n",
    "            row_num += 1\n",
    "        else:\n",
    "            break"
   ]
  },
  {
   "cell_type": "code",
   "execution_count": null,
   "metadata": {},
   "outputs": [],
   "source": [
    "# No header dict, with enumerate\n",
    "with open('navn_kulhet_no_header.csv') as csvfile_dict:\n",
    "    reader_dict = csv.DictReader(csvfile_dict, fieldnames=['fornavn', 'etternavn', 'tlf', 'kulhetsfaktor'])\n",
    "    n_lines = 0\n",
    "    # for index, (key, value) in enumerate(my_dict.items(), start=1):\n",
    "    for index, value in enumerate(reader_dict, start=1):\n",
    "        if (n_lines == 0):\n",
    "            print(value['fornavn'], value['etternavn'], value['kulhetsfaktor'], value['tlf'])\n",
    "        elif (n_lines >= index):\n",
    "            print(value['fornavn'], value['etternavn'], value['kulhetsfaktor'], value['tlf'])"
   ]
  },
  {
   "cell_type": "code",
   "execution_count": null,
   "metadata": {},
   "outputs": [],
   "source": [
    "\n"
   ]
  }
 ],
 "metadata": {
  "kernelspec": {
   "display_name": "Python 3",
   "language": "python",
   "name": "python3"
  },
  "language_info": {
   "codemirror_mode": {
    "name": "ipython",
    "version": 3
   },
   "file_extension": ".py",
   "mimetype": "text/x-python",
   "name": "python",
   "nbconvert_exporter": "python",
   "pygments_lexer": "ipython3",
   "version": "3.11.5"
  }
 },
 "nbformat": 4,
 "nbformat_minor": 2
}
