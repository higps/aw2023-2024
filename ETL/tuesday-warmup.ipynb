{
 "cells": [
  {
   "cell_type": "markdown",
   "metadata": {},
   "source": [
    "# Daily challenges\n",
    "\n",
    "The exercises in this document drill your understanding of the fundamental data structures in Python: lists and dictionaries. A solid understanding of lists and dictionaries makes working with Python much easier, as many modules deal with list- or dictionary-like objects (meaning they have similar methods and attributes; this is called [duck typing](https://en.wikipedia.org/wiki/Duck_typing)). Furthermore, you will become comfortable with iterations over lists and dictionaries. Understanding and applying iterations are a fundamental skill for any programmer.\n",
    "\n",
    "None of these problems are trivial. If you master these, you are well on your way to master Python. Once you solve a problem, see if you can simplify your code to make it cleaner and more beautiful. Clean and beautiful code is readable and understandable to many, and you will find joy and learning in the journey of making your code more elegant.\n",
    "\n",
    "## Day 1\n",
    "\n",
    "### 1\n",
    "\n",
    "```Python\n",
    "list1 = [1, 2, 2, 300, 4, 5, 'foo', 6, 7, 'bar', 'foo']\n",
    "```\n",
    "\n",
    "Write a function that returns a list of all items in the input list above that are numbers.\n",
    "\n",
    "### 2\n",
    "\n",
    "```Python\n",
    "lol = [[1,2,'foo'],[6,3,{'a':1}],[],['bar']]\n",
    "```\n",
    "\n",
    "Write a function that returns a list like the one below for the input list above.\n",
    "\n",
    "```Python\n",
    "[[1,2],[6,3],[],[]]\n",
    "```\n",
    "\n",
    "### 3\n",
    "\n",
    "Create a new version of the function from exercise 2 to instead produce the below input (that is, it should squash the list-of-lists into a single list).\n",
    "\n",
    "```Python\n",
    "[1,2,6,3]\n",
    "```\n",
    "\n",
    "### 4\n",
    "\n",
    "Write a function that returns a list of all items in the list below that are numbers.\n",
    "\n",
    "```Python\n",
    "l2 = [1, 3.14, 'foo', {'bar': '5'}, 1337.42]\n",
    "```\n",
    "\n",
    "### 5\n",
    "\n",
    "Write a function that returns the **index** of all items in list below that are not numbers.\n",
    "\n",
    "```Python\n",
    "l2 = [1, 3.14, 'foo', {'bar': '5'}, 1337.42]\n",
    "```\n",
    "\n"
   ]
  },
  {
   "cell_type": "code",
   "execution_count": null,
   "metadata": {},
   "outputs": [],
   "source": [
    "## Day 1\n",
    "### 1\n",
    "\n",
    "# ```Python\n",
    "list1 = [1, 2, 2, 300, 4, 5, 'foo', 6, 7, 'bar', 'foo']\n",
    "# ```\n",
    "\n",
    "# Write a function that returns a list of all items in the input list above that are numbers.\n",
    "\n",
    "def return_num(list):\n",
    "    num_list = []\n",
    "    for i in list:\n",
    "        if(isinstance(i, (int, float))):\n",
    "            print(\"Was numeric \",i)\n",
    "            num_list.append(i)\n",
    "        else:\n",
    "            print(\"Was not numeric \",i)\n",
    "    \n",
    "    return num_list\n",
    "\n",
    "return_num(list1)\n",
    "\n"
   ]
  },
  {
   "cell_type": "markdown",
   "metadata": {},
   "source": [
    "### 2\n",
    "\n",
    "```Python\n",
    "lol = [[1,2,'foo'],[6,3,{'a':1}],[],['bar']]\n",
    "```\n",
    "\n",
    "Write a function that returns a list like the one below for the input list above.\n",
    "\n",
    "```Python\n",
    "[[1,2],[6,3],[],[]]\n",
    "```"
   ]
  },
  {
   "cell_type": "code",
   "execution_count": 25,
   "metadata": {},
   "outputs": [
    {
     "data": {
      "text/plain": [
       "[[1, 2], [6, 3], [], []]"
      ]
     },
     "execution_count": 25,
     "metadata": {},
     "output_type": "execute_result"
    }
   ],
   "source": [
    "lol = [[1,2,'foo'],[6,3,{'a':1}],[],['bar']]\n",
    "\n",
    "def return_num_lol(list):\n",
    "    num_list = []\n",
    "    for i in list:\n",
    "        list_list = []\n",
    "        for j in i:\n",
    "            if(isinstance(j, (int, float))):\n",
    "                list_list.append(j)\n",
    "        num_list.append(list_list)\n",
    "    return num_list\n",
    "\n",
    "# Anotha way to do it yo\n",
    "# def return_num_lol(lst):\n",
    "#     num_list = []\n",
    "#     for sub_lst in lst:\n",
    "#         num_sub_list = [item for item in sub_lst if isinstance(item, (int, float))]\n",
    "#         num_list.append(num_sub_list)\n",
    "#     return num_list\n",
    "\n",
    "\n",
    "return_num_lol(lol)"
   ]
  },
  {
   "cell_type": "markdown",
   "metadata": {},
   "source": [
    "### 3\n",
    "\n",
    "Create a new version of the function from exercise 2 to instead produce the below input (that is, it should squash the list-of-lists into a single list).\n",
    "\n",
    "```Python\n",
    "[1,2,6,3]\n",
    "```"
   ]
  },
  {
   "cell_type": "code",
   "execution_count": 27,
   "metadata": {},
   "outputs": [
    {
     "data": {
      "text/plain": [
       "[1, 2, 6, 3]"
      ]
     },
     "execution_count": 27,
     "metadata": {},
     "output_type": "execute_result"
    }
   ],
   "source": [
    "def return_num_lol_squash(list):\n",
    "    num_list = []\n",
    "    for i in list:\n",
    "        list_list = []\n",
    "        for j in i:\n",
    "            if(isinstance(j, (int, float))):\n",
    "                list_list.append(j)\n",
    "        num_list.append(list_list)\n",
    "\n",
    "    flat_list = []\n",
    "\n",
    "    for i in num_list:\n",
    "        for j in i:\n",
    "            flat_list.append(j)\n",
    "\n",
    "\n",
    "    return flat_list\n",
    "\n",
    "\n",
    "return_num_lol_squash(lol)"
   ]
  },
  {
   "cell_type": "markdown",
   "metadata": {},
   "source": [
    "### 4\n",
    "\n",
    "Write a function that returns a list of all items in the list below that are numbers.\n",
    "\n",
    "```Python\n",
    "l2 = [1, 3.14, 'foo', {'bar': '5'}, 1337.42]\n",
    "```"
   ]
  },
  {
   "cell_type": "code",
   "execution_count": 28,
   "metadata": {},
   "outputs": [
    {
     "name": "stdout",
     "output_type": "stream",
     "text": [
      "1\n",
      "3.14\n",
      "foo\n",
      "{'bar': '5'}\n",
      "1337.42\n"
     ]
    },
    {
     "data": {
      "text/plain": [
       "[1, 3.14, 5, 1337.42]"
      ]
     },
     "execution_count": 28,
     "metadata": {},
     "output_type": "execute_result"
    }
   ],
   "source": [
    "l2 = [1, 3.14, 'foo', {'bar': '5'}, 1337.42]\n",
    "\n",
    "def return_num_list(list):\n",
    "    num_list = []\n",
    "    for i in list:\n",
    "        print(i)\n",
    "        if(isinstance(i, (int, float))):\n",
    "            num_list.append(i)\n",
    "        if(isinstance(i, (dict))):\n",
    "            for key, value in i.items():\n",
    "                num_list.append(int(value))\n",
    "            \n",
    "    return num_list\n",
    "\n",
    "return_num_list(l2)"
   ]
  },
  {
   "cell_type": "markdown",
   "metadata": {},
   "source": [
    "def return_num_list(list):\n",
    "    num_list = []\n",
    "    for i in list:\n",
    "        print(i)\n",
    "        if(isinstance(i, (int, float))):\n",
    "            num_list.append(i)\n",
    "        if(isinstance(i, (dict))):\n",
    "            for key, value in i.items():\n",
    "                num_list.append(int(value))\n",
    "            \n",
    "    return num_list\n",
    "\n",
    "return_num_list(l2)"
   ]
  },
  {
   "cell_type": "code",
   "execution_count": null,
   "metadata": {},
   "outputs": [],
   "source": [
    "def return_num_list(list):\n",
    "    num_list = []\n",
    "    for i in list:\n",
    "        print(i)\n",
    "        if(isinstance(i, (int, float))):\n",
    "            num_list.append(i)\n",
    "        if(isinstance(i, (dict))):\n",
    "            for key, value in i.items():\n",
    "                num_list.append(int(value))\n",
    "            \n",
    "    return num_list\n",
    "\n",
    "return_num_list(l2)"
   ]
  }
 ],
 "metadata": {
  "kernelspec": {
   "display_name": "Python 3",
   "language": "python",
   "name": "python3"
  },
  "language_info": {
   "codemirror_mode": {
    "name": "ipython",
    "version": 3
   },
   "file_extension": ".py",
   "mimetype": "text/x-python",
   "name": "python",
   "nbconvert_exporter": "python",
   "pygments_lexer": "ipython3",
   "version": "3.11.5"
  }
 },
 "nbformat": 4,
 "nbformat_minor": 2
}
