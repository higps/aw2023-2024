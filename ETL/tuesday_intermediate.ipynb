{
 "cells": [
  {
   "cell_type": "code",
   "execution_count": null,
   "metadata": {},
   "outputs": [],
   "source": []
  },
  {
   "cell_type": "markdown",
   "metadata": {},
   "source": [
    "# JSON exercises\n",
    "\n",
    "## 1 - Remembering the ingredients for your favorite recipes\n",
    "\n",
    "You love to cook and know many great recipes almost by heart. Unfortunately you often forget the correct amounts of ingredients you need and end up not having enough when you are actually cooking.\n",
    "\n",
    "0. How would you represent this recipe using a dictionary? What should be the keys and values? Discuss with your classmates.\n",
    "\n",
    "1. Create a simple script that uses `input()` to gather ingredients and amounts needed in a dictionary.\n",
    "\n",
    "2. Save the dictionary to a JSON file. Make sure to also ask the user for the recipe's name so you can use that in the filename and collect files in the folder `recipe_archive`.\n",
    "3. Now write another script that takes an argument (you can accept input to a python script by using `sys.argv`) about the recipe you are trying to remember. The script should then load the matching JSON-file from `recipe_archive` and give a friendly printout on the terminal about which ingredients you will need. Consider a format of\n",
    "\n",
    "```\n",
    "For pancakes you will need:\n",
    "300ml of milk\n",
    "100g of flour\n",
    "5 tbsp of sunflower oil\n",
    "a pinch of salt\n",
    "```\n",
    "\n",
    "3. (Bonus) This is actually quite useful so you want to also keep the actual cooking instructions saved along with your ingredients lists. After finishing the ingredients list also ask the user for if they have the cooking instructions ready and accept a filename (e.g. `how_to_cook_risotto.txt`) as input. Read the file and store the content in an additional field of your dictionary under the key `instructions.`\n",
    "4. You realise that creating so many files is a bit tricky and filenames are not always as nice as the actual names of a dish, so you decide to move everything into a single JSON and create a dict of dicts using the recipe names as the keys and the ingredients dicts as the values.\n"
   ]
  },
  {
   "cell_type": "code",
   "execution_count": null,
   "metadata": {},
   "outputs": [],
   "source": [
    "# 0. How would you represent this recipe using a dictionary? What should be the keys and values? Discuss with your classmates.\n",
    "#Ingrediens er Key, antall er value"
   ]
  },
  {
   "cell_type": "code",
   "execution_count": 1,
   "metadata": {},
   "outputs": [],
   "source": [
    "user_input_key = input(\"Enter ingredient name (type 'END' to exit): \").title()"
   ]
  },
  {
   "cell_type": "code",
   "execution_count": 2,
   "metadata": {},
   "outputs": [
    {
     "ename": "",
     "evalue": "",
     "output_type": "error",
     "traceback": [
      "\u001b[1;31mCannot execute code, session has been disposed. Please try restarting the Kernel."
     ]
    }
   ],
   "source": [
    "# 1. Create a simple script that uses `input()` to gather ingredients and amounts needed in a dictionary.\n",
    "\n",
    "ingredients = {}\n",
    "user_input = \"\"\n",
    "\n",
    "while user_input != \"END\":\n",
    "    user_input_key = input(\"Enter ingredient name (type 'END' to exit): \").title()\n",
    "    user_input_value = input(\"Enter ingredient value (type 'END' to exit): \")\n",
    "\n",
    "    if \"END\" in user_input_key or user_input_value:\n",
    "        user_input = \"END\"\n",
    "\n",
    "    ingredients.update(user_input_key, user_input_value)\n",
    "\n",
    "    # Process or use the user_input if needed\n",
    "\n",
    "# The loop will exit when the user enters 'END'\n",
    "print(\"Exiting the loop.\")\n"
   ]
  }
 ],
 "metadata": {
  "kernelspec": {
   "display_name": "Python 3",
   "language": "python",
   "name": "python3"
  },
  "language_info": {
   "codemirror_mode": {
    "name": "ipython",
    "version": 3
   },
   "file_extension": ".py",
   "mimetype": "text/x-python",
   "name": "python",
   "nbconvert_exporter": "python",
   "pygments_lexer": "ipython3",
   "version": "3.11.5"
  }
 },
 "nbformat": 4,
 "nbformat_minor": 2
}
