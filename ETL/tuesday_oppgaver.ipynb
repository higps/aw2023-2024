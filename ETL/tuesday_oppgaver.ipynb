{
 "cells": [
  {
   "cell_type": "markdown",
   "metadata": {},
   "source": [
    "\n",
    "## Exercises JSON \n",
    "\n",
    "Given the file users.json\n",
    "1. Load the file to a list dict in Python\n",
    "2. Create a function all_names(users) that accepts a list of dicts as input and returns all names as a list\n",
    "   I.e it should return [\"Mysil Bergsprekken\", \"Reodor Felgen\", \"Rudolf Blodstrupmoen\"]\n",
    "3. Create a function find_hobbies(users, hobby). It should return the name of all users that has the given hobby.\n",
    "   I.e find_hobbies(users, \"Cars\") should return [\"Mysil Bergsprekken\", \"Reodor Felgen\", \"Rudolf Blodstrupmoen\"], while find_hobbies(users, \"Grand Prix\") should return [\"Reodor Felgen\"] \n",
    "5. Create a new function create_hobby_dict(users) that returns a dictionary that lists each name of each hobby with hobby as the key.\n",
    "   create_hobby_dict(users) should return\n",
    "   {\n",
    "    \"Cars\" : [\"Mysil Bergsprekken\", \"Reodor Felgen\", \"Rudolf Blodstrupmoen\"],\n",
    "    \"Grand Prix\" : [\"Reodor Felgen\"],\n",
    "    \"Sabotaging\" : [\"Rudolf Blodstrupmoen\"],\n",
    "   }\n",
    "6. Write the new dict you just created to a new json file `hobbies.json`."
   ]
  },
  {
   "cell_type": "code",
   "execution_count": 1,
   "metadata": {},
   "outputs": [
    {
     "data": {
      "text/plain": [
       "[{'id': 1,\n",
       "  'name': 'Mysil Bergsprekken',\n",
       "  'hobbies': ['Cars', 'Skiing'],\n",
       "  'birthdate': '1995-02-01'},\n",
       " {'id': 2,\n",
       "  'name': 'Reodor Felgen',\n",
       "  'hobbies': ['Cars', 'Grand Prix'],\n",
       "  'birthdate': '1992-01-07'},\n",
       " {'id': 3,\n",
       "  'name': 'Rudolf Blodstrupmoen',\n",
       "  'hobbies': ['Cars', 'Sabotaging'],\n",
       "  'birthdate': '1988-02-27'}]"
      ]
     },
     "execution_count": 1,
     "metadata": {},
     "output_type": "execute_result"
    }
   ],
   "source": [
    "# 1. Load the file to a list dict in Python\n",
    "\n",
    "import json\n",
    "file_name = 'users.json'\n",
    "\n",
    "# Open and read the JSON file\n",
    "with open(file_name, 'r') as file:\n",
    "    # Load the JSON data\n",
    "    data = json.load(file)\n",
    "\n",
    "data"
   ]
  },
  {
   "cell_type": "code",
   "execution_count": 4,
   "metadata": {},
   "outputs": [
    {
     "data": {
      "text/plain": [
       "['Mysil Bergsprekken', 'Reodor Felgen', 'Rudolf Blodstrupmoen']"
      ]
     },
     "execution_count": 4,
     "metadata": {},
     "output_type": "execute_result"
    }
   ],
   "source": [
    "# 2. Create a function all_names(users) that accepts a list of dicts as input and returns all names as a list\n",
    "\n",
    "\n",
    "def all_names(users):\n",
    "    name_list = []\n",
    "    for i in users:\n",
    "        name_list.append(i[\"name\"])\n",
    "    \n",
    "    return name_list\n",
    "\n",
    "all_names(data)"
   ]
  },
  {
   "cell_type": "code",
   "execution_count": 14,
   "metadata": {},
   "outputs": [
    {
     "data": {
      "text/plain": [
       "['Reodor Felgen']"
      ]
     },
     "execution_count": 14,
     "metadata": {},
     "output_type": "execute_result"
    }
   ],
   "source": [
    "# 3. Create a function find_hobbies(users, hobby). It should return the name of all users that has the given hobby.\n",
    "#    I.e find_hobbies(users, \"Cars\") should return [\"Mysil Bergsprekken\", \"Reodor Felgen\", \"Rudolf Blodstrupmoen\"], while find_hobbies(users, \"Grand Prix\") should return [\"Reodor Felgen\"] \n",
    "\n",
    "def find_hobbies(users, hobby):\n",
    "    name_list = []\n",
    "    for i in users:\n",
    "        if(hobby in i[\"hobbies\"]):\n",
    "            name_list.append(i[\"name\"])\n",
    "\n",
    "    return name_list\n",
    "\n",
    "find_hobbies(data, \"Grand Prix\")"
   ]
  },
  {
   "cell_type": "code",
   "execution_count": 37,
   "metadata": {},
   "outputs": [],
   "source": [
    "# 5. Create a new function create_hobby_dict(users) that returns a dictionary that lists each name of each hobby with hobby as the key.\n",
    "#    create_hobby_dict(users) should return\n",
    "#    {\n",
    "#     \"Cars\" : [\"Mysil Bergsprekken\", \"Reodor Felgen\", \"Rudolf Blodstrupmoen\"],\n",
    "#     \"Grand Prix\" : [\"Reodor Felgen\"],\n",
    "#     \"Sabotaging\" : [\"Rudolf Blodstrupmoen\"],\n",
    "#    }\n",
    "\n",
    "def create_hobby_dict(users):\n",
    "    my_dict = {}\n",
    "\n",
    "    for user in users:        \n",
    "        for hobby in user[\"hobbies\"]:\n",
    "            if hobby not in my_dict:\n",
    "                my_dict[hobby] = []\n",
    "            my_dict[hobby].append(user[\"name\"])\n",
    "\n",
    "    return my_dict\n",
    "\n",
    "new_dict = create_hobby_dict(data)"
   ]
  },
  {
   "cell_type": "code",
   "execution_count": 40,
   "metadata": {},
   "outputs": [],
   "source": [
    "# 6. Write the new dict you just created to a new json file `hobbies.json`.\n",
    "\n",
    "\n",
    "with open(\"new_file_.json\", \"w\") as newfile:\n",
    "    json.dump(new_dict,newfile)"
   ]
  }
 ],
 "metadata": {
  "kernelspec": {
   "display_name": "Python 3",
   "language": "python",
   "name": "python3"
  },
  "language_info": {
   "codemirror_mode": {
    "name": "ipython",
    "version": 3
   },
   "file_extension": ".py",
   "mimetype": "text/x-python",
   "name": "python",
   "nbconvert_exporter": "python",
   "pygments_lexer": "ipython3",
   "version": "3.11.5"
  }
 },
 "nbformat": 4,
 "nbformat_minor": 2
}
