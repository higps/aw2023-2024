{
 "cells": [
  {
   "cell_type": "markdown",
   "metadata": {},
   "source": [
    "## Day 2\n",
    "\n",
    "### 1\n",
    "\n",
    "Write a function that returns a dictionary, where the key is the list index and the value is the list value at that index\n",
    "\n",
    "The input:\n",
    "\n",
    "```Python\n",
    "dict_list = [1,2,3,4,'banana']\n",
    "```\n",
    "\n",
    "Should produce this output:\n",
    "\n",
    "```Python\n",
    "{ '0': 1,\n",
    "'1': 2,\n",
    "'2': 3,\n",
    "'3': 4,\n",
    "'4': 'banana'}\n",
    "```\n",
    "\n",
    "### 2\n",
    "\n",
    "Opposite; but the keys are the values and the values are the indexes!\n",
    "\n",
    "We have:\n",
    "\n",
    "```Python\n",
    "dict_list = [1,2,3,4,'banana']\n",
    "```\n",
    "\n",
    "We want:\n",
    "\n",
    "```Python\n",
    "{ 1: 0,\n",
    "2: 1,\n",
    "3: 2,\n",
    "4: 3,\n",
    "'banana': 4}\n",
    "```\n",
    "\n",
    "### 3\n",
    "\n",
    "We have:\n",
    "\n",
    "```Python\n",
    "dict_list = [1,1,2, 'foo', 3, 'foo']\n",
    "```\n",
    "\n",
    "We want:\n",
    "\n",
    "```Python\n",
    "{\n",
    "1: [0,1],\n",
    "2: [2],\n",
    "'foo': [3,5],\n",
    "3: [4]\n",
    "}\n",
    "```\n"
   ]
  },
  {
   "cell_type": "markdown",
   "metadata": {},
   "source": [
    "\n",
    "### 1\n",
    "\n",
    "Write a function that returns a dictionary, where the key is the list index and the value is the list value at that index\n",
    "\n",
    "The input:\n",
    "\n",
    "```Python\n",
    "dict_list = [1,2,3,4,'banana']\n",
    "```"
   ]
  },
  {
   "cell_type": "code",
   "execution_count": 16,
   "metadata": {},
   "outputs": [],
   "source": [
    "def return_dict(ilist):\n",
    "    idict = {}\n",
    "    for index,value in enumerate(ilist):\n",
    "        idict[index] = value\n",
    "    return idict\n",
    "\n",
    "dict_list = [1,2,3,4,'banana']\n",
    "new_dit = return_dict(dict_list)\n"
   ]
  },
  {
   "cell_type": "markdown",
   "metadata": {},
   "source": [
    "### 2\n",
    "\n",
    "Opposite; but the keys are the values and the values are the indexes!\n",
    "\n",
    "We have:\n",
    "\n",
    "```Python\n",
    "dict_list = [1,2,3,4,'banana']\n",
    "```\n",
    "\n",
    "We want:\n",
    "\n",
    "```Python\n",
    "{ 1: 0,\n",
    "2: 1,\n",
    "3: 2,\n",
    "4: 3,\n",
    "'banana': 4}\n",
    "```"
   ]
  },
  {
   "cell_type": "markdown",
   "metadata": {},
   "source": []
  },
  {
   "cell_type": "code",
   "execution_count": 17,
   "metadata": {},
   "outputs": [
    {
     "name": "stdout",
     "output_type": "stream",
     "text": [
      "{0: 1, 1: 2, 2: 3, 3: 4, 4: 'banana'} {1: 0, 2: 1, 3: 2, 4: 3, 'banana': 4}\n"
     ]
    }
   ],
   "source": [
    "def return_dict_reverse(ilist):\n",
    "    idict = {}\n",
    "    for index,value in enumerate(ilist):\n",
    "        idict[value] = index\n",
    "    return idict\n",
    "\n",
    "new_dit_r = return_dict_reverse(dict_list)\n",
    "\n",
    "print(new_dit,new_dit_r)"
   ]
  },
  {
   "cell_type": "markdown",
   "metadata": {},
   "source": [
    "### 3\n",
    "\n",
    "We have:\n",
    "\n",
    "```Python\n",
    "dict_list = [1,1,2, 'foo', 3, 'foo']\n",
    "```\n",
    "\n",
    "We want:\n",
    "\n",
    "```Python\n",
    "{\n",
    "1: [0,1],\n",
    "2: [2],\n",
    "'foo': [3,5],\n",
    "3: [4]\n",
    "}\n",
    "```"
   ]
  },
  {
   "cell_type": "code",
   "execution_count": 20,
   "metadata": {},
   "outputs": [
    {
     "name": "stdout",
     "output_type": "stream",
     "text": [
      "{1: [0, 1], 2: [2], 'foo': [3, 5], 3: [4]}\n"
     ]
    }
   ],
   "source": [
    "def return_dict_wut(ilist):\n",
    "    idict = {}\n",
    "    for index,value in enumerate(ilist):\n",
    "        if value not in idict:\n",
    "            idict[value] = []\n",
    "        idict[value].append(index)\n",
    "\n",
    "    return idict\n",
    "\n",
    "dict_list = [1,1,2, 'foo', 3, 'foo']\n",
    "new_dit_w = return_dict_wut(dict_list)\n",
    "\n",
    "print(new_dit_w)"
   ]
  }
 ],
 "metadata": {
  "kernelspec": {
   "display_name": "Python 3",
   "language": "python",
   "name": "python3"
  },
  "language_info": {
   "codemirror_mode": {
    "name": "ipython",
    "version": 3
   },
   "file_extension": ".py",
   "mimetype": "text/x-python",
   "name": "python",
   "nbconvert_exporter": "python",
   "pygments_lexer": "ipython3",
   "version": "3.11.5"
  }
 },
 "nbformat": 4,
 "nbformat_minor": 2
}
