{
 "cells": [
  {
   "cell_type": "markdown",
   "metadata": {},
   "source": [
    "## Exercise\n",
    "\n",
    "1. Load [this](https://www.w3schools.com/xml/simple.xml) XML and play around with it. Try to print some of the elements to get a feel of how this XML looks.\n"
   ]
  },
  {
   "cell_type": "code",
   "execution_count": 3,
   "metadata": {},
   "outputs": [],
   "source": [
    "from lxml import etree\n",
    "URL = \"https://www.w3schools.com/xml/simple.xml\"\n",
    "\n",
    "import requests\n",
    "response = requests.get(URL)"
   ]
  },
  {
   "cell_type": "code",
   "execution_count": 4,
   "metadata": {},
   "outputs": [],
   "source": [
    "if response.status_code == 200:\n",
    "    # Parse the XML content\n",
    "    xml_content = response.content\n",
    "\n",
    "    root = etree.fromstring(xml_content)\n",
    "\n",
    "\n",
    "\n",
    "else:\n",
    "    # Print an error message if the request was not successful\n",
    "    print(f\"Error: Unable to fetch XML content. Status code: {response.status_code}\")"
   ]
  },
  {
   "cell_type": "markdown",
   "metadata": {},
   "source": [
    "2. Iterate over all the children of the root node and print the Food name of each menu item. \n"
   ]
  },
  {
   "cell_type": "code",
   "execution_count": 5,
   "metadata": {},
   "outputs": [
    {
     "name": "stdout",
     "output_type": "stream",
     "text": [
      "Belgian Waffles\n",
      "Strawberry Belgian Waffles\n",
      "Berry-Berry Belgian Waffles\n",
      "French Toast\n",
      "Homestyle Breakfast\n"
     ]
    }
   ],
   "source": [
    "for child in root:\n",
    "    for children in child.iter(\"name\"):\n",
    "        print(children.text)"
   ]
  },
  {
   "cell_type": "markdown",
   "metadata": {},
   "source": [
    "3. Create a function that accepts input from the user (using input()) and finds the Food item that has the same name as the one the user specified. E.g if the user writes \"French Toast\", the function should return \n",
    "```\n",
    "name: French Toast\n",
    "price: $4.50\n",
    "description: Thick slices made from our homemade sourdough bread\n",
    "calories: 600\n",
    "```\n",
    "If there is no item with the same name, it should return\n",
    "```\n",
    "Sorry we don't have that food!\n",
    "```\n"
   ]
  },
  {
   "cell_type": "code",
   "execution_count": 6,
   "metadata": {},
   "outputs": [],
   "source": [
    "    # for foods in root:\n",
    "    #     for food in foods:\n",
    "    #         if (food.tag not in food_dict):\n",
    "    #             food_dict[food.tag] = []\n",
    "    #         food_dict[food.tag].append(food.text)"
   ]
  },
  {
   "cell_type": "code",
   "execution_count": 7,
   "metadata": {},
   "outputs": [
    {
     "name": "stdout",
     "output_type": "stream",
     "text": [
      "name: French Toast\n",
      "price: $4.50\n",
      "description: Thick slices made from our homemade sourdough bread\n",
      "calories: 600\n",
      "Sorry couldn't find French Toasty\n"
     ]
    }
   ],
   "source": [
    "def get_food_item(input):\n",
    "    found = False\n",
    "    for foods in root:\n",
    "        if foods.find(\"name\").text == input:        \n",
    "            for food in foods:\n",
    "                print(f\"{food.tag}: {food.text}\")\n",
    "                found = True\n",
    "    \n",
    "    if not found:\n",
    "        print(f\"Sorry couldn't find {input}\")\n",
    "\n",
    "\n",
    "# user_input = input(\"Enter food item: \")\n",
    "user_input = \"French Toast\"\n",
    "get_food_item(user_input.title())\n",
    "\n",
    "user_input = \"French Toasty\"\n",
    "get_food_item(user_input.title())\n"
   ]
  },
  {
   "cell_type": "markdown",
   "metadata": {},
   "source": [
    "4. Iterate through all the items to find the item with the highest price.\n",
    "\n",
    "Hint: `\"$4.50\".strip('$')` removes the dollar part of the string, so that you can convert it to float for comparison\n"
   ]
  },
  {
   "cell_type": "code",
   "execution_count": 8,
   "metadata": {},
   "outputs": [
    {
     "data": {
      "text/plain": [
       "'Berry-Berry Belgian Waffles had the highest price with 8.95'"
      ]
     },
     "execution_count": 8,
     "metadata": {},
     "output_type": "execute_result"
    }
   ],
   "source": [
    "def find_highest_price():\n",
    "    highest_price = 0.0\n",
    "    for foods in root:\n",
    "        the_price = float(foods.find(\"price\").text.strip('$'))\n",
    "        if(the_price > highest_price):\n",
    "            highest_price = the_price\n",
    "            the_name = foods.find(\"name\").text\n",
    "        # for price in foods:\n",
    "        #     print(price.find(\"price\"))\n",
    "    return f\"{the_name} had the highest price with {highest_price}\"\n",
    "\n",
    "find_highest_price()"
   ]
  },
  {
   "cell_type": "markdown",
   "metadata": {},
   "source": [
    "5. Write all the Food that costs over $6 on the menu to a CSV with columns `name, price, description,calories`"
   ]
  },
  {
   "cell_type": "code",
   "execution_count": 9,
   "metadata": {},
   "outputs": [
    {
     "data": {
      "text/plain": [
       "[['name', 'price', 'calories', 'description'],\n",
       " ['Strawberry Belgian Waffles',\n",
       "  '$7.95',\n",
       "  '900',\n",
       "  'Light Belgian waffles covered with strawberries and whipped cream'],\n",
       " ['Berry-Berry Belgian Waffles',\n",
       "  '$8.95',\n",
       "  '900',\n",
       "  'Light Belgian waffles covered with an assortment of fresh berries and whipped cream'],\n",
       " ['Homestyle Breakfast',\n",
       "  '$6.95',\n",
       "  '950',\n",
       "  'Two eggs, bacon or sausage, toast, and our ever-popular hash browns']]"
      ]
     },
     "execution_count": 9,
     "metadata": {},
     "output_type": "execute_result"
    }
   ],
   "source": [
    "def list_food(cost):\n",
    "    collected_list = []\n",
    "    labels = [\"name\", \"price\", \"calories\", \"description\"]\n",
    "    collected_list.append(labels)\n",
    "    for foods in root:\n",
    "        the_price = float(foods.find(\"price\").text.strip('$'))\n",
    "        \n",
    "        if(the_price > cost):\n",
    "            name = foods.find(\"name\").text\n",
    "            price = foods.find(\"price\").text\n",
    "            calories = foods.find(\"calories\").text\n",
    "            description = foods.find(\"description\").text\n",
    "            everything = [name, price, calories, description]\n",
    "            collected_list.append(everything)\n",
    "    \n",
    "    return collected_list\n",
    "\n",
    "\n",
    "list_food(6)"
   ]
  },
  {
   "cell_type": "code",
   "execution_count": 10,
   "metadata": {},
   "outputs": [],
   "source": [
    "import csv"
   ]
  },
  {
   "cell_type": "code",
   "execution_count": 11,
   "metadata": {},
   "outputs": [],
   "source": [
    "csv_file_path = \"over6food.csv\"\n",
    "\n",
    "# Write the data to the CSV file\n",
    "with open(csv_file_path, 'w', newline='') as csv_file:\n",
    "    csv.writer(csv_file).writerows(list_food(6))\n",
    "\n",
    "# Write the data to the CSV file\n",
    "# with open(csv_file_path, 'w', newline='') as csv_list:\n",
    "#     reader_list = csv.writer(csv_list)\n",
    "    \n",
    "#     list_food = list_food(6)\n",
    "    \n",
    "#     csv.writer(csv_list).writerows(list_food)\n",
    "\n",
    "    # list_food = list_food(6)\n",
    "    #     # Write the header\n",
    "    # reader_list.writerow(list_food[0])\n",
    "    \n",
    "    # # Write the remaining rows\n",
    "    # reader_list.writerows(list_food[1:])"
   ]
  }
 ],
 "metadata": {
  "kernelspec": {
   "display_name": "Python 3.11.3 64-bit",
   "language": "python",
   "name": "python3"
  },
  "language_info": {
   "codemirror_mode": {
    "name": "ipython",
    "version": 3
   },
   "file_extension": ".py",
   "mimetype": "text/x-python",
   "name": "python",
   "nbconvert_exporter": "python",
   "pygments_lexer": "ipython3",
   "version": "3.11.5"
  },
  "orig_nbformat": 4,
  "vscode": {
   "interpreter": {
    "hash": "b0fa6594d8f4cbf19f97940f81e996739fb7646882a419484c72d19e05852a7e"
   }
  }
 },
 "nbformat": 4,
 "nbformat_minor": 2
}
