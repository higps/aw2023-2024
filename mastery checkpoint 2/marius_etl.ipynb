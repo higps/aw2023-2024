{
 "cells": [
  {
   "cell_type": "markdown",
   "metadata": {},
   "source": [
    "a)\n",
    "Write a function get_comic_info that gets data on a given comic as a dictionary. The function must accept\n",
    "comic_number as an argument and return data for that comic. If the comic does not exist, the function must\n",
    "return an empty dictionary. (Hint: Remember to check the if the response is ok, i.e status code less than 400.)\n",
    "Below are examples of how the function should behave (the ordering of keys in the dict does not matter):"
   ]
  },
  {
   "cell_type": "code",
   "execution_count": 1,
   "metadata": {},
   "outputs": [],
   "source": [
    "import requests"
   ]
  },
  {
   "cell_type": "markdown",
   "metadata": {},
   "source": [
    "## A\n",
    "Write a function get_comic_info that gets data on a given comic as a dictionary. The function must accept\n",
    "comic_number as an argument and return data for that comic. If the comic does not exist, the function must\n",
    "return an empty dictionary. (Hint: Remember to check the if the response is ok, i.e status code less than 400.)\n",
    "Below are examples of how the function should behave (the ordering of keys in the dict does not matter):\n"
   ]
  },
  {
   "cell_type": "code",
   "execution_count": 4,
   "metadata": {},
   "outputs": [],
   "source": [
    "def get_comic_info(COMICNO):\n",
    "    response = requests.get(f\"https://xkcd.com/{COMICNO}/info.0.json\")\n",
    "\n",
    "    if response.ok:\n",
    "        return response.json()\n",
    "    else: \n",
    "        print(\"There was something wrong with your response\")\n",
    "        return {}\n",
    "    \n",
    " \n",
    "\n"
   ]
  },
  {
   "cell_type": "code",
   "execution_count": 5,
   "metadata": {},
   "outputs": [
    {
     "name": "stdout",
     "output_type": "stream",
     "text": [
      "{'month': '1', 'num': 1, 'link': '', 'year': '2006', 'news': '', 'safe_title': 'Barrel - Part 1', 'transcript': \"[[A boy sits in a barrel which is floating in an ocean.]]\\nBoy: I wonder where I'll float next?\\n[[The barrel drifts into the distance. Nothing else can be seen.]]\\n{{Alt: Don't we all.}}\", 'alt': \"Don't we all.\", 'img': 'https://imgs.xkcd.com/comics/barrel_cropped_(1).jpg', 'title': 'Barrel - Part 1', 'day': '1'}\n",
      "There was something wrong with your response\n",
      "{}\n"
     ]
    }
   ],
   "source": [
    "comic1 = get_comic_info(1)\n",
    "print(comic1)\n",
    "\n",
    "comic2 = get_comic_info(20000)\n",
    "print(comic2)"
   ]
  },
  {
   "cell_type": "markdown",
   "metadata": {},
   "source": [
    "# B\n",
    "You might have noticed that the returned dict in task a) contains a lot of keys. We are only interested in the\n",
    "fields day, month, year, num and title, and we want the first four of these as int. Write a function\n",
    "transform_comic that accepts a comic as input and returns a stripped down version of that comic. The\n",
    "comic should be the dict from get_comic_info.\n"
   ]
  },
  {
   "cell_type": "code",
   "execution_count": 6,
   "metadata": {},
   "outputs": [
    {
     "data": {
      "text/plain": [
       "{'day': '1', 'month': '1', 'year': '2006', 'title': 'Barrel - Part 1'}"
      ]
     },
     "execution_count": 6,
     "metadata": {},
     "output_type": "execute_result"
    }
   ],
   "source": [
    "def transform_comic(comic_dict):\n",
    "    transformed_dict = {}\n",
    "    labels = [\"day\", \"month\", \"year\", \"title\"]\n",
    "    if len(comic_dict) == 0:\n",
    "        print(\"Comic dictonary is empty\")\n",
    "    else:\n",
    "        transformed_dict[\"day\"] = comic_dict[\"day\"]\n",
    "        transformed_dict[\"month\"] = comic_dict[\"month\"]\n",
    "        transformed_dict[\"year\"] = comic_dict[\"year\"]\n",
    "        transformed_dict[\"title\"] = comic_dict[\"title\"]\n",
    "\n",
    "    return transformed_dict\n",
    "\n",
    "transform_dict = transform_comic(comic1)\n",
    "\n",
    "transform_dict\n",
    "\n",
    "\n"
   ]
  },
  {
   "cell_type": "markdown",
   "metadata": {},
   "source": [
    "## c\n",
    "Write a function get_all_comics that returns a list of comic data. It should use both get_comic_info and\n",
    "transform_comic. The function takes two input parameters, num1 and num2, and the function returns the\n",
    "data for all comics between num1 and num2 (inclusive, meaning there is data for comics num1 and num2 in the\n",
    "list).\n"
   ]
  },
  {
   "cell_type": "code",
   "execution_count": 7,
   "metadata": {},
   "outputs": [],
   "source": [
    "def get_all_comics(min_val, max_val):\n",
    "    list_of_comic_data = []\n",
    "    # Need +1 on range or else we get -1 of the values we enter\n",
    "    for i in range(min_val, max_val+1):\n",
    "        #I like functions so I put a function in a function\n",
    "        list_of_comic_data.append(transform_comic(get_comic_info(i)))\n",
    "    return list_of_comic_data"
   ]
  },
  {
   "cell_type": "code",
   "execution_count": 8,
   "metadata": {},
   "outputs": [
    {
     "data": {
      "text/plain": [
       "[{'day': '1', 'month': '1', 'year': '2006', 'title': 'Barrel - Part 1'},\n",
       " {'day': '1', 'month': '1', 'year': '2006', 'title': 'Petit Trees (sketch)'},\n",
       " {'day': '1', 'month': '1', 'year': '2006', 'title': 'Island (sketch)'},\n",
       " {'day': '1', 'month': '1', 'year': '2006', 'title': 'Landscape (sketch)'},\n",
       " {'day': '1', 'month': '1', 'year': '2006', 'title': 'Blown apart'}]"
      ]
     },
     "execution_count": 8,
     "metadata": {},
     "output_type": "execute_result"
    }
   ],
   "source": [
    "get_all_comics(1,5)"
   ]
  },
  {
   "cell_type": "markdown",
   "metadata": {},
   "source": [
    "## d)\n",
    "Write a function get_time_delta takes input comic1 and comic2, and returns the number of days it has\n",
    "been between the publish date of the two comics. If either of the inputs are None, it should return 0."
   ]
  },
  {
   "cell_type": "code",
   "execution_count": 9,
   "metadata": {},
   "outputs": [],
   "source": [
    "from datetime import date"
   ]
  },
  {
   "cell_type": "code",
   "execution_count": 10,
   "metadata": {},
   "outputs": [],
   "source": [
    "def get_time_delta(comic_dict1, comic_dict2):\n",
    "    if comic_dict1 == None or comic_dict2 == None:\n",
    "        return 0\n",
    "    # Convert the data type to int otherwise math won't work\n",
    "    date_one = date(int(comic_dict1[\"year\"]), int(comic_dict1[\"month\"]), int(comic_dict1[\"day\"]))\n",
    "    date_two = date(int(comic_dict2[\"year\"]), int(comic_dict2[\"month\"]), int(comic_dict2[\"day\"]))\n",
    "    difference = date_two - date_one\n",
    "\n",
    "    return difference.days"
   ]
  },
  {
   "cell_type": "code",
   "execution_count": 11,
   "metadata": {},
   "outputs": [],
   "source": [
    "comic1, comic2 = get_all_comics(513, 514) \n"
   ]
  },
  {
   "cell_type": "code",
   "execution_count": 12,
   "metadata": {},
   "outputs": [
    {
     "name": "stdout",
     "output_type": "stream",
     "text": [
      "3\n",
      "0\n"
     ]
    }
   ],
   "source": [
    "print(get_time_delta(comic1, comic2))\n",
    "print(get_time_delta(None, comic2))"
   ]
  },
  {
   "cell_type": "markdown",
   "metadata": {},
   "source": [
    "## e)\n",
    "Write a function get_all_comics_with_time_delta that returns a list of comic data (as above with\n",
    "get_all_comics). The function takes two input parameters, num1 and num2.\n",
    "In addition to the fields returned above, each dictionary in the list should have the field timedelta, which\n",
    "indicates the number of days since the previous comic. For the first comic in the list, the timedelta should be 0\n",
    "(since we have nothing to compare it against).\n"
   ]
  },
  {
   "cell_type": "code",
   "execution_count": 13,
   "metadata": {},
   "outputs": [],
   "source": [
    "def get_all_comics_with_time_delta(min_val, max_val):\n",
    "    \n",
    "    #this will be a list since get_all_comics returns the comics as a list\n",
    "    list_of_comics = get_all_comics(min_val, max_val)\n",
    "\n",
    "    #The Return value\n",
    "    comic_data = []\n",
    "\n",
    "    #New Key to make in the dictionary, in case it needs to be altered later\n",
    "    TimeDeltaLabel = \"timedelta\"\n",
    "\n",
    "    # Use enumerate to easily use the index to find previous comic\n",
    "    for index, comic in enumerate(list_of_comics):\n",
    "        if(index == 0):\n",
    "            #The one case where the first comic doesn't have a previous comic\n",
    "            comic[TimeDeltaLabel] = 0\n",
    "        else:\n",
    "            previous_comic = index-1\n",
    "            #Use the index of the previous comic first as that will always have the min value\n",
    "            comic[TimeDeltaLabel] = get_time_delta(list_of_comics[previous_comic],comic)\n",
    "\n",
    "        #Add the time delta modified dictionary to a new list   \n",
    "        comic_data.append(comic)\n",
    "           \n",
    "    return comic_data"
   ]
  },
  {
   "cell_type": "code",
   "execution_count": 14,
   "metadata": {},
   "outputs": [
    {
     "name": "stdout",
     "output_type": "stream",
     "text": [
      "[{'day': '5', 'month': '12', 'year': '2008', 'title': 'Friends', 'timedelta': 0}, {'day': '8', 'month': '12', 'year': '2008', 'title': 'Simultaneous', 'timedelta': 3}, {'day': '10', 'month': '12', 'year': '2008', 'title': 'No One Must Know', 'timedelta': 2}]\n"
     ]
    }
   ],
   "source": [
    "print(get_all_comics_with_time_delta(513, 515))"
   ]
  },
  {
   "cell_type": "markdown",
   "metadata": {},
   "source": [
    "## f)\n",
    "Write a function write_comics_data_with_time_delta that takes two input parameters, num1 and num2.\n",
    "The function should write all comic data for these comics (as retrieved in the previous problems) to a CSV file\n",
    "comics.csv. Use csv.DictWriter to achieve this.\n"
   ]
  },
  {
   "cell_type": "code",
   "execution_count": 15,
   "metadata": {},
   "outputs": [],
   "source": [
    "import csv"
   ]
  },
  {
   "cell_type": "code",
   "execution_count": 17,
   "metadata": {},
   "outputs": [],
   "source": [
    "def write_comics_data_with_time_delta(num1, num2):\n",
    "    all_comics = get_all_comics_with_time_delta(num1, num2)\n",
    "    csv_out_file_path = 'time_delta.csv'\n",
    "    with open(csv_out_file_path, 'w', newline='') as csv_file:\n",
    "\n",
    "                \n",
    "        header = [\"day\",\"month\",\"year\",\"title\",\"timedelta\"]\n",
    "        csv_writer = csv.DictWriter(csv_file, fieldnames=header)\n",
    "        csv_writer.writeheader()\n",
    "\n",
    "        # Write the data to the CSV file\n",
    "        csv_writer.writerows(all_comics)"
   ]
  },
  {
   "cell_type": "code",
   "execution_count": 18,
   "metadata": {},
   "outputs": [],
   "source": [
    "write_comics_data_with_time_delta(513, 518)"
   ]
  }
 ],
 "metadata": {
  "kernelspec": {
   "display_name": "Python 3",
   "language": "python",
   "name": "python3"
  },
  "language_info": {
   "codemirror_mode": {
    "name": "ipython",
    "version": 3
   },
   "file_extension": ".py",
   "mimetype": "text/x-python",
   "name": "python",
   "nbconvert_exporter": "python",
   "pygments_lexer": "ipython3",
   "version": "3.11.5"
  }
 },
 "nbformat": 4,
 "nbformat_minor": 2
}
