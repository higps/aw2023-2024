{
 "cells": [
  {
   "cell_type": "code",
   "execution_count": 1,
   "metadata": {},
   "outputs": [
    {
     "name": "stdout",
     "output_type": "stream",
     "text": [
      "WARNING:tensorflow:From c:\\Users\\MariusDyrseth\\AppData\\Local\\Programs\\Python\\Python311\\Lib\\site-packages\\keras\\src\\losses.py:2976: The name tf.losses.sparse_softmax_cross_entropy is deprecated. Please use tf.compat.v1.losses.sparse_softmax_cross_entropy instead.\n",
      "\n"
     ]
    },
    {
     "data": {
      "text/plain": [
       "True"
      ]
     },
     "execution_count": 1,
     "metadata": {},
     "output_type": "execute_result"
    }
   ],
   "source": [
    "import numpy as np\n",
    "import matplotlib.pyplot as plt\n",
    "import tensorflow as tf\n",
    "from tensorflow.keras.layers import Dense, Input, Dropout, Convolution2D\n",
    "from tensorflow.keras.models import Model\n",
    "tf.executing_eagerly()"
   ]
  },
  {
   "cell_type": "code",
   "execution_count": 2,
   "metadata": {},
   "outputs": [],
   "source": [
    "X_train =  np.load('train_images.npy', allow_pickle=True)\n",
    "y_train =  np.load('train_labels.npy', allow_pickle=True)\n",
    "\n",
    "class_names = ['T-shirt/top', 'Trouser', 'Pullover', 'Dress', 'Coat',\n",
    "               'Sandal', 'Shirt', 'Sneaker', 'Bag', 'Ankle boot']"
   ]
  },
  {
   "cell_type": "code",
   "execution_count": 3,
   "metadata": {},
   "outputs": [
    {
     "data": {
      "image/png": "[encoded data removed]",
      "text/plain": [
       "<Figure size 640x480 with 1 Axes>"
      ]
     },
     "metadata": {},
     "output_type": "display_data"
    },
    {
     "name": "stdout",
     "output_type": "stream",
     "text": [
      "This is a T-shirt/top\n"
     ]
    }
   ],
   "source": [
    "# show image\n",
    "data_idx = 17\n",
    "plt.imshow(X_train[data_idx,:,:]/255, cmap='binary')\n",
    "plt.show()\n",
    "class_number = y_train[data_idx]\n",
    "class_text = class_names[class_number]\n",
    "print(f'This is a {class_text}')"
   ]
  },
  {
   "cell_type": "code",
   "execution_count": 4,
   "metadata": {},
   "outputs": [],
   "source": [
    "# data prep\n",
    "X_train = X_train/255\n",
    "X_train = X_train.reshape(-1, 784)"
   ]
  },
  {
   "cell_type": "code",
   "execution_count": 5,
   "metadata": {},
   "outputs": [],
   "source": [
    "from sklearn.preprocessing import OneHotEncoder"
   ]
  },
  {
   "cell_type": "code",
   "execution_count": 6,
   "metadata": {},
   "outputs": [],
   "source": [
    "encoder = OneHotEncoder(sparse_output=False)\n",
    "\n",
    "y_train_shaped = y_train.reshape(-1,1)\n",
    "\n",
    "encoder.fit(y_train_shaped)\n",
    "encoded = encoder.transform(y_train_shaped)\n",
    "\n",
    "y_train_ohe = np.zeros((68000,10))\n",
    "y_train_ohe[np.arange(68000), y_train] = 1"
   ]
  },
  {
   "cell_type": "code",
   "execution_count": 7,
   "metadata": {},
   "outputs": [],
   "source": [
    "# # prep validation data\n",
    "# X_val =  np.load('val_images.npy', allow_pickle=True)\n",
    "# # dele på 255 og reshape\n",
    "# X_val = X_val/255\n",
    "# X_val = X_val.reshape(-1,784)\n",
    "\n"
   ]
  },
  {
   "cell_type": "code",
   "execution_count": 8,
   "metadata": {},
   "outputs": [
    {
     "name": "stdout",
     "output_type": "stream",
     "text": [
      "WARNING:tensorflow:From c:\\Users\\MariusDyrseth\\AppData\\Local\\Programs\\Python\\Python311\\Lib\\site-packages\\keras\\src\\backend.py:1398: The name tf.executing_eagerly_outside_functions is deprecated. Please use tf.compat.v1.executing_eagerly_outside_functions instead.\n",
      "\n",
      "WARNING:tensorflow:From c:\\Users\\MariusDyrseth\\AppData\\Local\\Programs\\Python\\Python311\\Lib\\site-packages\\keras\\src\\optimizers\\__init__.py:309: The name tf.train.Optimizer is deprecated. Please use tf.compat.v1.train.Optimizer instead.\n",
      "\n"
     ]
    }
   ],
   "source": [
    "input_layer = Input(shape=(784,))\n",
    "layer_1 = Dense(784, activation='relu')(input_layer)\n",
    "layer_1_d = Dropout(0.5)(layer_1)\n",
    "layer_2 = Dense(256,activation='relu')(layer_1)\n",
    "layer_2_d = Dropout(0.5)(layer_2)\n",
    "layer_3 = Dense(128,activation='relu')(layer_2)\n",
    "layer_3_d = Dropout(0.5)(layer_3)\n",
    "layer_4 = Dense(32,activation='relu')(layer_3)\n",
    "layer_4_d = Dropout(0.5)(layer_4)\n",
    "layer_5 = Dense(10,activation='relu')(layer_4)\n",
    "output_layer = Dense(10,activation='softmax')(layer_5)\n",
    "\n",
    "model_3 = Model(inputs=input_layer, outputs=output_layer)\n",
    "model_3.compile(optimizer='adam',loss='categorical_crossentropy', metrics='accuracy')"
   ]
  },
  {
   "cell_type": "code",
   "execution_count": 9,
   "metadata": {},
   "outputs": [],
   "source": [
    "from sklearn.model_selection import train_test_split"
   ]
  },
  {
   "cell_type": "code",
   "execution_count": 10,
   "metadata": {},
   "outputs": [
    {
     "name": "stdout",
     "output_type": "stream",
     "text": [
      "53312000\n",
      "680000\n"
     ]
    }
   ],
   "source": [
    "print(X_train.size)\n",
    "print(encoded.size)"
   ]
  },
  {
   "cell_type": "code",
   "execution_count": 11,
   "metadata": {},
   "outputs": [],
   "source": [
    "##Marius\n",
    "# X_train_splitted, X_temp, y_train_splitted, y_temp = train_test_split(X_train, encoded, test_size=0.2)\n",
    "\n",
    "# X_val, X_test, y_val, y_test = train_test_split(X_temp, y_temp, test_size=0.2)\n",
    "\n"
   ]
  },
  {
   "cell_type": "code",
   "execution_count": 12,
   "metadata": {},
   "outputs": [],
   "source": [
    "y_train = encoded\n",
    "\n",
    "X_train, X_test, y_train, y_test = train_test_split(X_train, y_train, test_size=0.2)\n",
    " \n",
    "# X_train_split, X_val, y_train_split, y_val = train_test_split(X_train, y_train, test_size=0.25)"
   ]
  },
  {
   "cell_type": "code",
   "execution_count": 13,
   "metadata": {},
   "outputs": [
    {
     "name": "stdout",
     "output_type": "stream",
     "text": [
      "Epoch 1/32\n",
      "WARNING:tensorflow:From c:\\Users\\MariusDyrseth\\AppData\\Local\\Programs\\Python\\Python311\\Lib\\site-packages\\keras\\src\\utils\\tf_utils.py:492: The name tf.ragged.RaggedTensorValue is deprecated. Please use tf.compat.v1.ragged.RaggedTensorValue instead.\n",
      "\n",
      "WARNING:tensorflow:From c:\\Users\\MariusDyrseth\\AppData\\Local\\Programs\\Python\\Python311\\Lib\\site-packages\\keras\\src\\engine\\base_layer_utils.py:384: The name tf.executing_eagerly_outside_functions is deprecated. Please use tf.compat.v1.executing_eagerly_outside_functions instead.\n",
      "\n",
      "425/425 [==============================] - 5s 9ms/step - loss: 0.7512 - accuracy: 0.7410 - val_loss: 0.5035 - val_accuracy: 0.8240\n",
      "Epoch 2/32\n",
      "425/425 [==============================] - 4s 9ms/step - loss: 0.4001 - accuracy: 0.8566 - val_loss: 0.3693 - val_accuracy: 0.8679\n",
      "Epoch 3/32\n",
      "425/425 [==============================] - 4s 9ms/step - loss: 0.3490 - accuracy: 0.8736 - val_loss: 0.3590 - val_accuracy: 0.8730\n",
      "Epoch 4/32\n",
      "425/425 [==============================] - 4s 9ms/step - loss: 0.3183 - accuracy: 0.8831 - val_loss: 0.3262 - val_accuracy: 0.8801\n",
      "Epoch 5/32\n",
      "425/425 [==============================] - 4s 9ms/step - loss: 0.3020 - accuracy: 0.8883 - val_loss: 0.3555 - val_accuracy: 0.8702\n",
      "Epoch 6/32\n",
      "425/425 [==============================] - 4s 9ms/step - loss: 0.2816 - accuracy: 0.8957 - val_loss: 0.3281 - val_accuracy: 0.8848\n",
      "Epoch 7/32\n",
      "425/425 [==============================] - 4s 9ms/step - loss: 0.2694 - accuracy: 0.8996 - val_loss: 0.3505 - val_accuracy: 0.8715\n",
      "Epoch 8/32\n",
      "425/425 [==============================] - 4s 9ms/step - loss: 0.2589 - accuracy: 0.9033 - val_loss: 0.3172 - val_accuracy: 0.8874\n",
      "Epoch 9/32\n",
      "425/425 [==============================] - 4s 10ms/step - loss: 0.2542 - accuracy: 0.9058 - val_loss: 0.3109 - val_accuracy: 0.8862\n",
      "Epoch 10/32\n",
      "425/425 [==============================] - 4s 9ms/step - loss: 0.2405 - accuracy: 0.9089 - val_loss: 0.3206 - val_accuracy: 0.8869\n",
      "Epoch 11/32\n",
      "425/425 [==============================] - 4s 9ms/step - loss: 0.2291 - accuracy: 0.9135 - val_loss: 0.3103 - val_accuracy: 0.8918\n",
      "Epoch 12/32\n",
      "425/425 [==============================] - 4s 9ms/step - loss: 0.2183 - accuracy: 0.9184 - val_loss: 0.3184 - val_accuracy: 0.8918\n",
      "Epoch 13/32\n",
      "425/425 [==============================] - 4s 10ms/step - loss: 0.2141 - accuracy: 0.9188 - val_loss: 0.3245 - val_accuracy: 0.8882\n",
      "Epoch 14/32\n",
      "425/425 [==============================] - 4s 9ms/step - loss: 0.2057 - accuracy: 0.9220 - val_loss: 0.3215 - val_accuracy: 0.8902\n",
      "Epoch 15/32\n",
      "425/425 [==============================] - 4s 10ms/step - loss: 0.2016 - accuracy: 0.9242 - val_loss: 0.3173 - val_accuracy: 0.8900\n",
      "Epoch 16/32\n",
      "425/425 [==============================] - 4s 9ms/step - loss: 0.1911 - accuracy: 0.9280 - val_loss: 0.3319 - val_accuracy: 0.8893\n",
      "Epoch 17/32\n",
      "425/425 [==============================] - 4s 10ms/step - loss: 0.1836 - accuracy: 0.9296 - val_loss: 0.3330 - val_accuracy: 0.8911\n",
      "Epoch 18/32\n",
      "425/425 [==============================] - 4s 10ms/step - loss: 0.1823 - accuracy: 0.9303 - val_loss: 0.3427 - val_accuracy: 0.8952\n",
      "Epoch 19/32\n",
      "425/425 [==============================] - 4s 9ms/step - loss: 0.1743 - accuracy: 0.9340 - val_loss: 0.3029 - val_accuracy: 0.8992\n",
      "Epoch 20/32\n",
      "425/425 [==============================] - 4s 9ms/step - loss: 0.1643 - accuracy: 0.9377 - val_loss: 0.3361 - val_accuracy: 0.8973\n",
      "Epoch 21/32\n",
      "425/425 [==============================] - 4s 9ms/step - loss: 0.1625 - accuracy: 0.9377 - val_loss: 0.3495 - val_accuracy: 0.8968\n",
      "Epoch 22/32\n",
      "425/425 [==============================] - 4s 9ms/step - loss: 0.1561 - accuracy: 0.9417 - val_loss: 0.3316 - val_accuracy: 0.8999\n",
      "Epoch 23/32\n",
      "425/425 [==============================] - 4s 9ms/step - loss: 0.1502 - accuracy: 0.9431 - val_loss: 0.3400 - val_accuracy: 0.8964\n",
      "Epoch 24/32\n",
      "425/425 [==============================] - 4s 9ms/step - loss: 0.1458 - accuracy: 0.9443 - val_loss: 0.3867 - val_accuracy: 0.8923\n",
      "Epoch 25/32\n",
      "425/425 [==============================] - 4s 9ms/step - loss: 0.1412 - accuracy: 0.9452 - val_loss: 0.3774 - val_accuracy: 0.8918\n",
      "Epoch 26/32\n",
      "425/425 [==============================] - 4s 10ms/step - loss: 0.1365 - accuracy: 0.9481 - val_loss: 0.3943 - val_accuracy: 0.8947\n",
      "Epoch 27/32\n",
      "425/425 [==============================] - 4s 9ms/step - loss: 0.1332 - accuracy: 0.9492 - val_loss: 0.3697 - val_accuracy: 0.8942\n",
      "Epoch 28/32\n",
      "425/425 [==============================] - 4s 9ms/step - loss: 0.1285 - accuracy: 0.9510 - val_loss: 0.3951 - val_accuracy: 0.8911\n",
      "Epoch 29/32\n",
      "425/425 [==============================] - 4s 9ms/step - loss: 0.1242 - accuracy: 0.9531 - val_loss: 0.4471 - val_accuracy: 0.8907\n",
      "Epoch 30/32\n",
      "425/425 [==============================] - 4s 10ms/step - loss: 0.1214 - accuracy: 0.9538 - val_loss: 0.4218 - val_accuracy: 0.8946\n",
      "Epoch 31/32\n",
      "425/425 [==============================] - 4s 10ms/step - loss: 0.1199 - accuracy: 0.9539 - val_loss: 0.3671 - val_accuracy: 0.8963\n",
      "Epoch 32/32\n",
      "425/425 [==============================] - 4s 9ms/step - loss: 0.1120 - accuracy: 0.9571 - val_loss: 0.4240 - val_accuracy: 0.8990\n"
     ]
    }
   ],
   "source": [
    "# history = model_3.fit(X_train_splitted, y_train_splitted, batch_size=128, epochs=1024, validation_data=(X_val,y_val))\n",
    "\n",
    "#Magnus ver\n",
    "history = model_3.fit(X_train, y_train, batch_size=128, epochs=32, validation_data=(X_test,y_test))"
   ]
  },
  {
   "cell_type": "code",
   "execution_count": 14,
   "metadata": {},
   "outputs": [
    {
     "data": {
      "image/png": "[encoded data removed]",
      "text/plain": [
       "<Figure size 640x480 with 1 Axes>"
      ]
     },
     "metadata": {},
     "output_type": "display_data"
    }
   ],
   "source": [
    "plt.plot(history.history[\"loss\"])\n",
    "plt.plot(history.history[\"val_loss\"])\n",
    "plt.show()"
   ]
  },
  {
   "cell_type": "code",
   "execution_count": 15,
   "metadata": {},
   "outputs": [
    {
     "data": {
      "image/png": "[encoded data removed]",
      "text/plain": [
       "<Figure size 640x480 with 1 Axes>"
      ]
     },
     "metadata": {},
     "output_type": "display_data"
    }
   ],
   "source": [
    "plt.plot(history.history[\"accuracy\"])\n",
    "plt.plot(history.history[\"val_accuracy\"])\n",
    "plt.show()"
   ]
  },
  {
   "cell_type": "code",
   "execution_count": 16,
   "metadata": {},
   "outputs": [
    {
     "data": {
      "text/plain": [
       "[0.7409558892250061,\n",
       " 0.8565992712974548,\n",
       " 0.873639702796936,\n",
       " 0.8830514550209045,\n",
       " 0.8883455991744995,\n",
       " 0.8957169055938721,\n",
       " 0.8996139764785767,\n",
       " 0.9032904505729675,\n",
       " 0.905845582485199,\n",
       " 0.9088970422744751,\n",
       " 0.9134926199913025,\n",
       " 0.918400764465332,\n",
       " 0.9188235402107239,\n",
       " 0.9220404624938965,\n",
       " 0.9241728186607361,\n",
       " 0.9280331134796143,\n",
       " 0.9295772314071655,\n",
       " 0.9302573800086975,\n",
       " 0.9339522123336792,\n",
       " 0.9377021789550781,\n",
       " 0.9376654624938965,\n",
       " 0.9416543841362,\n",
       " 0.9430882334709167,\n",
       " 0.9442647099494934,\n",
       " 0.9452389478683472,\n",
       " 0.9480882287025452,\n",
       " 0.949246346950531,\n",
       " 0.9510477781295776,\n",
       " 0.9530698657035828,\n",
       " 0.953805148601532,\n",
       " 0.9538970589637756,\n",
       " 0.9570955634117126]"
      ]
     },
     "execution_count": 16,
     "metadata": {},
     "output_type": "execute_result"
    }
   ],
   "source": [
    "history.history[\"accuracy\"]"
   ]
  },
  {
   "cell_type": "code",
   "execution_count": 17,
   "metadata": {},
   "outputs": [
    {
     "data": {
      "text/plain": [
       "(array([ 1.,  0.,  0.,  0.,  0.,  1.,  3.,  6.,  8., 13.]),\n",
       " array([0.74095589, 0.76256986, 0.78418382, 0.80579779, 0.82741176,\n",
       "        0.84902573, 0.87063969, 0.89225366, 0.91386763, 0.9354816 ,\n",
       "        0.95709556]),\n",
       " <BarContainer object of 10 artists>)"
      ]
     },
     "execution_count": 17,
     "metadata": {},
     "output_type": "execute_result"
    },
    {
     "data": {
      "image/png": "[encoded data removed]",
      "text/plain": [
       "<Figure size 640x480 with 1 Axes>"
      ]
     },
     "metadata": {},
     "output_type": "display_data"
    }
   ],
   "source": [
    "plt.hist(history.history[\"accuracy\"])"
   ]
  },
  {
   "cell_type": "code",
   "execution_count": 18,
   "metadata": {},
   "outputs": [
    {
     "name": "stdout",
     "output_type": "stream",
     "text": [
      "425/425 [==============================] - 1s 1ms/step\n"
     ]
    }
   ],
   "source": [
    "prediction = model_3.predict(X_test)"
   ]
  },
  {
   "cell_type": "code",
   "execution_count": 19,
   "metadata": {},
   "outputs": [
    {
     "data": {
      "text/plain": [
       "array([[9.99962449e-01, 2.74935896e-09, 3.92122359e-12, ...,\n",
       "        1.96380540e-14, 3.41481937e-05, 7.42414121e-18],\n",
       "       [9.91062432e-09, 1.05436468e-08, 2.78852670e-03, ...,\n",
       "        1.24501109e-09, 6.19281737e-10, 1.73146741e-08],\n",
       "       [9.99992967e-01, 1.12354064e-10, 7.40538297e-08, ...,\n",
       "        2.69796990e-10, 3.39347170e-12, 7.13452908e-10],\n",
       "       ...,\n",
       "       [1.92707734e-08, 3.16994544e-07, 3.24659882e-10, ...,\n",
       "        7.87457247e-05, 2.16057686e-07, 9.99914885e-01],\n",
       "       [3.90625837e-10, 6.55694100e-14, 8.98688922e-22, ...,\n",
       "        3.67098828e-15, 1.00000000e+00, 1.04254734e-17],\n",
       "       [1.10960156e-01, 3.49603011e-03, 3.17186788e-02, ...,\n",
       "        1.46009689e-02, 7.22545922e-01, 1.57186447e-03]], dtype=float32)"
      ]
     },
     "execution_count": 19,
     "metadata": {},
     "output_type": "execute_result"
    }
   ],
   "source": [
    "prediction"
   ]
  },
  {
   "cell_type": "code",
   "execution_count": 20,
   "metadata": {},
   "outputs": [
    {
     "name": "stdout",
     "output_type": "stream",
     "text": [
      "63/63 [==============================] - 0s 2ms/step\n"
     ]
    }
   ],
   "source": [
    "# predic validation data\n",
    "X_validate = np.load('val_images.npy', allow_pickle=True)\n",
    "# data prep\n",
    "X_validate = X_validate/255\n",
    "X_validate = X_validate.reshape(-1, 784)\n",
    "# my_prediction = np.array([9,0,0,3,...])\n",
    "\n",
    "prediction = model_3.predict(X_validate)"
   ]
  },
  {
   "cell_type": "code",
   "execution_count": 21,
   "metadata": {},
   "outputs": [
    {
     "data": {
      "text/plain": [
       "2000"
      ]
     },
     "execution_count": 21,
     "metadata": {},
     "output_type": "execute_result"
    }
   ],
   "source": [
    "len(X_validate)"
   ]
  },
  {
   "cell_type": "code",
   "execution_count": 22,
   "metadata": {},
   "outputs": [
    {
     "data": {
      "text/plain": [
       "array([[1.1838661e-02, 4.6392834e-06, 9.7958231e-01, ..., 4.6967684e-06,\n",
       "        5.2521459e-06, 1.9510582e-04],\n",
       "       [7.5965545e-05, 1.4991664e-07, 3.7692379e-07, ..., 2.4566691e-15,\n",
       "        1.7105226e-08, 1.0875500e-12],\n",
       "       [7.2491144e-05, 3.9961339e-08, 4.5460179e-06, ..., 9.7857040e-01,\n",
       "        7.3100680e-05, 1.9675883e-02],\n",
       "       ...,\n",
       "       [3.3954559e-05, 2.3710716e-06, 6.0653514e-07, ..., 4.5862955e-14,\n",
       "        1.6867030e-07, 2.5626329e-11],\n",
       "       [5.1355815e-11, 1.6486501e-11, 1.3933337e-13, ..., 1.3321322e-06,\n",
       "        7.0147159e-11, 9.9999869e-01],\n",
       "       [7.5648532e-17, 1.0835300e-13, 3.3105374e-20, ..., 9.1882212e-15,\n",
       "        4.0936820e-19, 1.3481886e-14]], dtype=float32)"
      ]
     },
     "execution_count": 22,
     "metadata": {},
     "output_type": "execute_result"
    }
   ],
   "source": [
    "prediction"
   ]
  },
  {
   "cell_type": "code",
   "execution_count": 23,
   "metadata": {},
   "outputs": [
    {
     "data": {
      "text/plain": [
       "array([2, 3, 7, ..., 3, 9, 5], dtype=int64)"
      ]
     },
     "execution_count": 23,
     "metadata": {},
     "output_type": "execute_result"
    }
   ],
   "source": [
    "np.round(prediction[0, :], 2)\n",
    "\n",
    "# Get the index of the maximum value in each row\n",
    "argmaxed = np.argmax(prediction, axis=1)\n",
    "argmaxed"
   ]
  },
  {
   "cell_type": "code",
   "execution_count": 24,
   "metadata": {},
   "outputs": [],
   "source": [
    "my_name = \"Marius\"\n",
    "np.save(my_name+\".npy\", argmaxed)"
   ]
  }
 ],
 "metadata": {
  "kernelspec": {
   "display_name": "Python 3",
   "language": "python",
   "name": "python3"
  },
  "language_info": {
   "codemirror_mode": {
    "name": "ipython",
    "version": 3
   },
   "file_extension": ".py",
   "mimetype": "text/x-python",
   "name": "python",
   "nbconvert_exporter": "python",
   "pygments_lexer": "ipython3",
   "version": "3.11.7"
  }
 },
 "nbformat": 4,
 "nbformat_minor": 2
}
