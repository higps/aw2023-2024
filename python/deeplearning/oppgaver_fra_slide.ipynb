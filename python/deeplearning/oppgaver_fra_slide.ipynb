{
 "cells": [
  {
   "cell_type": "code",
   "execution_count": 20,
   "metadata": {},
   "outputs": [],
   "source": [
    "import tensorflow as tf\n",
    "import numpy as np\n",
    "from tensorflow.keras.layers import Dense, Input\n",
    "from tensorflow.keras.models import Model"
   ]
  },
  {
   "cell_type": "markdown",
   "metadata": {},
   "source": [
    "## 1.\n"
   ]
  },
  {
   "cell_type": "code",
   "execution_count": 23,
   "metadata": {},
   "outputs": [],
   "source": [
    "input_layer = Input(shape=(3,))\n",
    "first_hidden_layer = Dense(4, activation='relu')(input_layer)\n",
    "output_layer = Dense(2,activation=None)(first_hidden_layer)\n",
    "\n",
    "model_1 = Model(inputs=input_layer, outputs=output_layer)\n",
    "model_1.compile(optimizer='adam',loss='mse')"
   ]
  },
  {
   "cell_type": "markdown",
   "metadata": {},
   "source": [
    "## 2"
   ]
  },
  {
   "cell_type": "code",
   "execution_count": 24,
   "metadata": {},
   "outputs": [
    {
     "name": "stdout",
     "output_type": "stream",
     "text": [
      "WARNING:tensorflow:From c:\\Users\\MariusDyrseth\\AppData\\Local\\Programs\\Python\\Python311\\Lib\\site-packages\\keras\\src\\optimizers\\__init__.py:309: The name tf.train.Optimizer is deprecated. Please use tf.compat.v1.train.Optimizer instead.\n",
      "\n"
     ]
    }
   ],
   "source": [
    "input_layer = Input(shape=(5,))\n",
    "first_hidden_layer = Dense(7)(input_layer)\n",
    "second_hidden_layer = Dense(7, activation='relu')(first_hidden_layer)\n",
    "output_layer = Dense(4, activation='softmax')(second_hidden_layer)\n",
    "\n",
    "model_2 = Model(inputs=input_layer, outputs=output_layer)\n",
    "model_2.compile(optimizer='adam',loss='categorical_crossentropy')"
   ]
  },
  {
   "cell_type": "markdown",
   "metadata": {},
   "source": [
    "## 3."
   ]
  },
  {
   "cell_type": "code",
   "execution_count": 25,
   "metadata": {},
   "outputs": [],
   "source": [
    "input_layer = Input(shape=(4,))\n",
    "first_hidden_layer = Dense(5, activation='relu')(input_layer)\n",
    "second_hidden_layer = Dense(7,activation='relu')(first_hidden_layer)\n",
    "output_layer = Dense(3,activation='sigmoid')(second_hidden_layer)\n",
    "\n",
    "model_3 = Model(inputs=input_layer, outputs=output_layer)\n",
    "model_3.compile(optimizer='adam',loss='binary_crossentropy')"
   ]
  },
  {
   "cell_type": "markdown",
   "metadata": {},
   "source": [
    "# 4."
   ]
  },
  {
   "cell_type": "code",
   "execution_count": 27,
   "metadata": {},
   "outputs": [
    {
     "name": "stdout",
     "output_type": "stream",
     "text": [
      "(None, 3)\n"
     ]
    }
   ],
   "source": [
    "input_layer_1 = Input(shape=(3,))\n",
    "print(input_layer_1.shape)\n",
    "first_hidden_layer_1 = Dense(4,activation='relu')(input_layer_1)\n",
    "output_layer_1 = Dense(2,activation='softmax')(first_hidden_layer_1)\n",
    "\n",
    "input_layer_2 = Input(shape=(3,))\n",
    "first_hidden_layer_2 = Dense(4, activation='relu')(input_layer_2)\n",
    "output_layer_2 = Dense(2,activation=None)(first_hidden_layer_2)\n",
    "\n",
    "ab_concat = tf.keras.layers.Concatenate()([output_layer_1, output_layer_2])\n",
    "hidden_layer_1 = Dense(5,activation='relu')(ab_concat)\n",
    "hidden_layer_2 = Dense(7,activation='relu')(hidden_layer_1)\n",
    "output_ex4 = Dense(3,activation='softmax')(hidden_layer_2)\n",
    "\n",
    "model_ex4 = tf.keras.models.Model(inputs=[input_layer_1, input_layer_2], outputs=output_ex4)\n",
    "model_ex4.compile(optimizer='adam',loss='categorical_crossentropy')\n"
   ]
  },
  {
   "cell_type": "code",
   "execution_count": null,
   "metadata": {},
   "outputs": [
    {
     "name": "stdout",
     "output_type": "stream",
     "text": [
      "1/1 [==============================] - 0s 113ms/step\n"
     ]
    },
    {
     "data": {
      "text/plain": [
       "array([[-0.8208059 ,  0.3450424 ,  1.041119  ,  0.09777937, -0.6537435 ]],\n",
       "      dtype=float32)"
      ]
     },
     "execution_count": 14,
     "metadata": {},
     "output_type": "execute_result"
    }
   ],
   "source": [
    "X_data_a = np.array([0.2,0.7,0.5]).reshape(1,3)\n",
    "X_data_b = np.array([0.4,0.1,0.9]).reshape(1,3)\n",
    "\n",
    "model_ex4.predict([X_data_a, X_data_b])\n",
    "\n"
   ]
  }
 ],
 "metadata": {
  "kernelspec": {
   "display_name": "Python 3",
   "language": "python",
   "name": "python3"
  },
  "language_info": {
   "codemirror_mode": {
    "name": "ipython",
    "version": 3
   },
   "file_extension": ".py",
   "mimetype": "text/x-python",
   "name": "python",
   "nbconvert_exporter": "python",
   "pygments_lexer": "ipython3",
   "version": "3.11.7"
  }
 },
 "nbformat": 4,
 "nbformat_minor": 2
}
