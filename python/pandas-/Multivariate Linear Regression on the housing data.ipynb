{
 "cells": [
  {
   "cell_type": "code",
   "execution_count": null,
   "metadata": {},
   "outputs": [],
   "source": [
    "# 1 . Try adding more features (more columns) for your input training data. Make sure the\n",
    "# column you add is numbers, the ML model only understands numbers.\n",
    "# Start with a single column an make sure the model accuracy actually is increasing for each\n",
    "# column you add (compare MSE, MAE and R²).\n",
    "\n",
    "import numpy as np\n",
    "import pandas as pd\n",
    "from sklearn.linear_model import LinearRegression\n",
    "\n",
    "#import data\n",
    "\n",
    "df = pd.read_csv('kc_house_data.csv')\n",
    "\n",
    "feature_columns = [\n",
    "    'sqft_living',\n",
    "    'sqft_lot',\n",
    "    'bathrooms',\n",
    "    'bedrooms'\n",
    "]\n",
    "X_multiple = np.c_[df[feature_columns]]\n",
    "y = np.c_[df[\"price\"]]\n",
    "\n",
    "model_mv = LinearRegression()\n",
    "model_mv.fit(X=X_multiple, y=y)\n",
    "\n",
    "\n",
    "\n"
   ]
  }
 ],
 "metadata": {
  "language_info": {
   "name": "python"
  }
 },
 "nbformat": 4,
 "nbformat_minor": 2
}
