{
 "cells": [
  {
   "cell_type": "code",
   "execution_count": 5,
   "metadata": {},
   "outputs": [],
   "source": [
    "import pandas as pd"
   ]
  },
  {
   "cell_type": "code",
   "execution_count": 6,
   "metadata": {},
   "outputs": [],
   "source": [
    "\n",
    "# b. Create a new column “retire_age” which all has the value 67.\n",
    "# c. Create a new column “time_to_pension” an calculate for each person the number of\n",
    "# year until the persons pension starts.\n",
    "# d. Save the dataframe as a csv table (comma “,” separated).\n",
    "# e. Using “df.loc”, get the “time_to_pension” for the person on index 53.\n",
    "# f. Using “df.iloc” get the “time_to_pension” for the person on index 53."
   ]
  },
  {
   "cell_type": "code",
   "execution_count": 7,
   "metadata": {},
   "outputs": [],
   "source": [
    "# 1.\n",
    "# a. Create a pandas dataframe with two columns , “name” and “age”. Set the index starting\n",
    "# at 52 (e.g, 52, 53, 54,…etc ), Pick at least 5 names and ages\n",
    "\n",
    "#df_input = pd.DataFrame(data=[['Marius','Parius','Gummi','Snarius','Darius'], [52,53,54,55,56]], columns=list(['Name', 'Age']))\n",
    "\n",
    "data = [['Marius', 'Parius', 'Gummi', 'Snarius', 'Darius'], [52, 53, 54, 55, 56]]\n",
    "df_input = pd.DataFrame(data=list(zip(*data)), columns=['Name', 'Age'])\n",
    "\n",
    "names = ['Marius', 'Parius', 'Gummi', 'Snarius', 'Darius']\n",
    "ages = [52, 53, 54, 55, 56]\n",
    "\n",
    "df_input_list_as_dict = pd.DataFrame({'Name': names, 'Age': ages})\n",
    "\n",
    "age_dict = {\"Name\" : names,\n",
    "            \"Age\" : ages}\n",
    "\n",
    "df_input_dict = pd.DataFrame(age_dict, index=ages)"
   ]
  },
  {
   "cell_type": "code",
   "execution_count": 8,
   "metadata": {},
   "outputs": [],
   "source": [
    "#b Create a new column “retire_age” which all has the value 67.\n",
    "\n",
    "\n",
    "df_input_dict[\"Retirement Age\"] = 57\n",
    "# This overwrites\n",
    "df_input_dict[\"Retirement Age\"] = 67"
   ]
  },
  {
   "cell_type": "code",
   "execution_count": 9,
   "metadata": {},
   "outputs": [],
   "source": [
    "# c Create a new column “time_to_pension” an calculate for each person the number of year until the persons pension starts.\n",
    "\n",
    "df_input_dict[\"Time_To_Pension\"] = df_input_dict[\"Retirement Age\"] - df_input_dict[\"Age\"]"
   ]
  },
  {
   "cell_type": "code",
   "execution_count": 10,
   "metadata": {},
   "outputs": [],
   "source": [
    "# d. Save the dataframe as a csv table (comma “,” separated).\n",
    "\n",
    "df_input_dict.to_csv(\"retire age and stuff.csv\", index=False, sep=',')"
   ]
  },
  {
   "cell_type": "code",
   "execution_count": 11,
   "metadata": {},
   "outputs": [],
   "source": [
    "# e. Using “df.loc”, get the “time_to_pension” for the person on index 53.\n",
    "\n",
    "pension_of_53_loc = df_input_dict.loc[53, \"Time_To_Pension\"]"
   ]
  },
  {
   "cell_type": "code",
   "execution_count": 20,
   "metadata": {},
   "outputs": [],
   "source": [
    "# f. Using “df.iloc” get the “time_to_pension” for the person on index 53.\n",
    "\n",
    "\n",
    "pension_of_53_iloc = df_input_dict.iloc[1, 3]"
   ]
  }
 ],
 "metadata": {
  "kernelspec": {
   "display_name": "Python 3",
   "language": "python",
   "name": "python3"
  },
  "language_info": {
   "codemirror_mode": {
    "name": "ipython",
    "version": 3
   },
   "file_extension": ".py",
   "mimetype": "text/x-python",
   "name": "python",
   "nbconvert_exporter": "python",
   "pygments_lexer": "ipython3",
   "version": "3.11.5"
  }
 },
 "nbformat": 4,
 "nbformat_minor": 2
}
